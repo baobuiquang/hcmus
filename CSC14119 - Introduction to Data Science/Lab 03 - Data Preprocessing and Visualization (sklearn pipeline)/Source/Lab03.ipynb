{
  "cells": [
    {
      "cell_type": "markdown",
      "metadata": {
        "Collapsed": "false",
        "id": "CtnHxc20lVGg"
      },
      "source": [
        "# Lab03: Tiền xử lý và mô hình hóa dữ liệu\n",
        "\n",
        "\n",
        "Họ tên: Bùi Quang Bảo\n",
        "\n",
        "MSSV: 19120454"
      ]
    },
    {
      "cell_type": "markdown",
      "metadata": {
        "Collapsed": "false",
        "id": "LUs_Y7MUlVGk"
      },
      "source": [
        "---"
      ]
    },
    {
      "cell_type": "markdown",
      "metadata": {
        "id": "uMWLHZ-_lVGl"
      },
      "source": [
        "## Cách làm bài và nộp bài (bạn cần đọc kỹ)"
      ]
    },
    {
      "cell_type": "markdown",
      "metadata": {
        "id": "q2nqQsadlVGm"
      },
      "source": [
        "&#9889; Bạn lưu ý là mình sẽ dùng chương trình hỗ trợ chấm bài nên bạn cần phải tuân thủ chính xác qui định mà mình đặt ra, nếu không rõ thì hỏi, chứ không nên tự tiện làm theo ý của cá nhân.\n",
        "\n",
        "**Cách làm bài**\n",
        "\n",
        "Bạn sẽ làm trực tiếp trên file notebook này. Đầu tiên, bạn điền họ tên và MSSV vào phần đầu file ở bên trên. Trong file, bạn làm bài ở những chỗ có ghi là:\n",
        "```python\n",
        "# YOUR CODE HERE\n",
        "raise NotImplementedError()\n",
        "```\n",
        "hoặc đối với những phần code không bắt buộc thì là:\n",
        "```python\n",
        "# YOUR CODE HERE (OPTION)\n",
        "```\n",
        "hoặc đối với markdown cell thì là:\n",
        "```markdown\n",
        "YOUR ANSWER HERE\n",
        "```\n",
        "Tất nhiên, khi làm thì bạn xóa dòng `raise NotImplementedError()` đi.\n",
        "Đối những phần yêu cầu code thì thường ở ngay phía dưới sẽ có một (hoặc một số) cell chứa các bộ test để giúp bạn biết đã code đúng hay chưa; nếu chạy cell này không có lỗi gì thì có nghĩa là qua được các bộ test. Trong một số trường hợp, các bộ test có thể sẽ không đầy đủ; nghĩa là, nếu không qua được test thì là code sai, nhưng nếu qua được test thì chưa chắc đã đúng.\n",
        "\n",
        "Trong khi làm bài, bạn có thể cho in ra màn hình, tạo thêm các cell để test. Nhưng khi nộp bài thì bạn xóa các cell mà bạn tự tạo, xóa hoặc comment các câu lệnh in ra màn hình. Bạn lưu ý <font color=red>không được tự tiện xóa các cell hay sửa code của Thầy</font> (trừ những chỗ được phép sửa như đã nói ở trên).\n",
        "\n",
        "Trong khi làm bài, thường xuyên `Ctrl + S` để lưu lại bài làm của bạn, tránh mất mát thông tin.\n",
        "\n",
        "\n",
        "*Nên nhớ mục tiêu chính ở đây là <font color=green>học, học một cách chân thật</font>. Bạn có thể thảo luận ý tưởng với bạn khác cũng như tham khảo các nguồn trên mạng, nhưng sau cùng <font color=green>code và bài làm phải là của bạn, dựa trên sự hiểu thật sự của bạn</font>. Khi tham khảo các nguồn trên mạng thì bạn cần ghi rõ nguồn trong bài làm. Bạn không được tham khảo bài làm của các bạn năm trước (vì nếu làm vậy thì bao giờ bạn mới có thể tự mình suy nghĩ để giải quyết vấn đề); sau khi kết thúc môn học, bạn cũng không được đưa bài làm cho các bạn khóa sau hoặc public bài làm trên Github (vì nếu làm vậy thì sẽ ảnh hưởng tới việc học của các bạn khóa sau). Nếu bạn có thể làm theo những gì mình nói thì điểm của bạn có thể sẽ không cao nhưng bạn sẽ có được những bước tiến thật sự. <font color=red>Trong trường hợp bạn vi phạm những điều mình nói ở trên thì sẽ bị 0 điểm cho toàn bộ môn học.</font>*\n",
        "\n",
        "**Cách nộp bài**\n",
        "\n",
        "Khi chấm bài, đầu tiên mình sẽ chọn `Kernel` - `Restart & Run All`, để restart và chạy tất cả các cell trong notebook của bạn; do đó, trước khi nộp bài, bạn nên chạy thử `Kernel` - `Restart & Run All` để đảm bảo mọi chuyện diễn ra đúng như mong đợi.\n",
        "\n",
        "Sau đó, bạn tạo thư mục nộp bài theo cấu trúc sau:\n",
        "- Thư mục `MSSV` (vd, nếu bạn có MSSV là 1234567 thì bạn đặt tên thư mục là `1234567`)\n",
        "    - File `Lab03.ipynb` (không cần nộp các file khác)\n",
        "\n",
        "Cuối cùng, bạn nén thư mục `MSSV` này lại và nộp ở link trên moodle. Đuôi của file nén phải là .zip (chứ không được .rar hay gì khác).\n",
        "\n",
        "<font color=red>Bạn lưu ý tuân thủ chính xác qui định nộp bài ở trên.</font>"
      ]
    },
    {
      "cell_type": "markdown",
      "metadata": {
        "Collapsed": "false",
        "id": "vIU2_LomlVGo"
      },
      "source": [
        "---"
      ]
    },
    {
      "cell_type": "markdown",
      "metadata": {
        "id": "DTy3m42ZlVGo"
      },
      "source": [
        "## Môi trường code"
      ]
    },
    {
      "cell_type": "markdown",
      "metadata": {
        "id": "rlr2NIyglVGp"
      },
      "source": [
        "Ta thống nhất trong môn này: dùng phiên bản các package như trong file \"min_ds-env.yml\". Cách tạo/cập-nhật môi trường code từ file \"min_ds-env.yml\" đã được nói ở file \"02_BeforeClass-Notebook_Python.pdf\"."
      ]
    },
    {
      "cell_type": "markdown",
      "metadata": {
        "id": "-djgfWxulVGq"
      },
      "source": [
        "Check môi trường code:"
      ]
    },
    {
      "cell_type": "code",
      "execution_count": 1,
      "metadata": {
        "colab": {
          "base_uri": "https://localhost:8080/"
        },
        "id": "ZC2XmNdKlVGr",
        "outputId": "0979bbb2-d80c-471a-91b4-552a45b270ee"
      },
      "outputs": [
        {
          "output_type": "execute_result",
          "data": {
            "text/plain": [
              "('/usr/bin/python3', '3.7.12 (default, Sep 10 2021, 00:21:48) \\n[GCC 7.5.0]')"
            ]
          },
          "metadata": {},
          "execution_count": 1
        }
      ],
      "source": [
        "import sys\n",
        "sys.executable, sys.version"
      ]
    },
    {
      "cell_type": "markdown",
      "metadata": {
        "id": "_dTHKb32lVGt"
      },
      "source": [
        "Nếu không có vấn đề gì thì file chạy python sẽ là file của môi trường code \"min_ds-env\"."
      ]
    },
    {
      "cell_type": "markdown",
      "metadata": {
        "Collapsed": "false",
        "id": "1V_NYjMxlVGt"
      },
      "source": [
        "---"
      ]
    },
    {
      "cell_type": "markdown",
      "metadata": {
        "Collapsed": "false",
        "id": "ovxfxtNMlVGu"
      },
      "source": [
        "## Import"
      ]
    },
    {
      "cell_type": "code",
      "execution_count": 2,
      "metadata": {
        "Collapsed": "false",
        "id": "zADGZAPMlVGu"
      },
      "outputs": [],
      "source": [
        "import matplotlib.pyplot as plt\n",
        "import seaborn as sns # seaborn là thư viện được xây trên matplotlib, \n",
        "                      # giúp việc visualization đỡ khổ hơn\n",
        "import pandas as pd\n",
        "import numpy as np\n",
        "\n",
        "from sklearn.model_selection import train_test_split\n",
        "from sklearn.preprocessing import OneHotEncoder, StandardScaler\n",
        "from sklearn.impute import SimpleImputer\n",
        "from sklearn.base import BaseEstimator, TransformerMixin\n",
        "from sklearn.pipeline import Pipeline, make_pipeline\n",
        "from sklearn.compose import ColumnTransformer, make_column_transformer\n",
        "from sklearn.neural_network import MLPClassifier\n",
        "from sklearn import set_config\n",
        "set_config(display='diagram') # Để trực quan hóa pipeline\n",
        "\n",
        "# You can also import other things ...\n",
        "# YOUR CODE HERE (OPTION)"
      ]
    },
    {
      "cell_type": "markdown",
      "metadata": {
        "Collapsed": "false",
        "id": "Z0JL7XEFlVGv"
      },
      "source": [
        "---"
      ]
    },
    {
      "cell_type": "markdown",
      "metadata": {
        "Collapsed": "false",
        "id": "bzcfEvRClVGv"
      },
      "source": [
        "## Thu thập dữ liệu\n",
        "\n",
        "Bộ dữ liệu được sử dụng trong bài tập là bộ dữ liệu đã được thu thập sẵn cho việc dự đoán bệnh tim ([Tham khảo](https://archive.ics.uci.edu/ml/datasets/heart+disease)); Ở đây mình đã thay đổi một số thứ để phù hợp với mục tiêu của bài lab\n",
        "\n",
        "\n",
        "Các file dữ liệu bao gồm: \n",
        "- File \"lab03_train.csv\": tập dữ liệu train\n",
        "- File \"lab03_test.csv\": tập dữ liệu test\n",
        "- File \"description.txt\": mô tả ý nghĩa của các cột"
      ]
    },
    {
      "cell_type": "markdown",
      "metadata": {
        "Collapsed": "false",
        "id": "cDE_MU8VlVGv"
      },
      "source": [
        "---"
      ]
    },
    {
      "cell_type": "markdown",
      "metadata": {
        "Collapsed": "false",
        "id": "qUIzd1oFlVGw"
      },
      "source": [
        "## Khám phá dữ liệu (đủ để có thể xác định câu hỏi)"
      ]
    },
    {
      "cell_type": "code",
      "execution_count": 3,
      "metadata": {
        "Collapsed": "false",
        "colab": {
          "base_uri": "https://localhost:8080/",
          "height": 203
        },
        "id": "sFmVedwNlVGw",
        "outputId": "5909efb4-c45b-42eb-8231-76e1edb4c29c"
      },
      "outputs": [
        {
          "output_type": "execute_result",
          "data": {
            "text/html": [
              "\n",
              "  <div id=\"df-493dd1a2-f25a-4d4e-afa5-f29853f213de\">\n",
              "    <div class=\"colab-df-container\">\n",
              "      <div>\n",
              "<style scoped>\n",
              "    .dataframe tbody tr th:only-of-type {\n",
              "        vertical-align: middle;\n",
              "    }\n",
              "\n",
              "    .dataframe tbody tr th {\n",
              "        vertical-align: top;\n",
              "    }\n",
              "\n",
              "    .dataframe thead th {\n",
              "        text-align: right;\n",
              "    }\n",
              "</style>\n",
              "<table border=\"1\" class=\"dataframe\">\n",
              "  <thead>\n",
              "    <tr style=\"text-align: right;\">\n",
              "      <th></th>\n",
              "      <th>age</th>\n",
              "      <th>sex</th>\n",
              "      <th>cp</th>\n",
              "      <th>trestbps</th>\n",
              "      <th>chol</th>\n",
              "      <th>fbs</th>\n",
              "      <th>restecg</th>\n",
              "      <th>thalach</th>\n",
              "      <th>exang</th>\n",
              "      <th>oldpeak</th>\n",
              "      <th>slope</th>\n",
              "      <th>ca</th>\n",
              "      <th>thal</th>\n",
              "      <th>target</th>\n",
              "    </tr>\n",
              "  </thead>\n",
              "  <tbody>\n",
              "    <tr>\n",
              "      <th>0</th>\n",
              "      <td>43.0</td>\n",
              "      <td>NaN</td>\n",
              "      <td>2</td>\n",
              "      <td>122</td>\n",
              "      <td>NaN</td>\n",
              "      <td>0</td>\n",
              "      <td>1</td>\n",
              "      <td>NaN</td>\n",
              "      <td>0</td>\n",
              "      <td>0.2</td>\n",
              "      <td>1.0</td>\n",
              "      <td>0</td>\n",
              "      <td>2</td>\n",
              "      <td>1</td>\n",
              "    </tr>\n",
              "    <tr>\n",
              "      <th>1</th>\n",
              "      <td>66.0</td>\n",
              "      <td>female</td>\n",
              "      <td>2</td>\n",
              "      <td>146</td>\n",
              "      <td>278.0</td>\n",
              "      <td>0</td>\n",
              "      <td>0</td>\n",
              "      <td>152.0</td>\n",
              "      <td>0</td>\n",
              "      <td>0.0</td>\n",
              "      <td>1.0</td>\n",
              "      <td>1</td>\n",
              "      <td>2</td>\n",
              "      <td>1</td>\n",
              "    </tr>\n",
              "    <tr>\n",
              "      <th>2</th>\n",
              "      <td>58.0</td>\n",
              "      <td>male</td>\n",
              "      <td>2</td>\n",
              "      <td>140</td>\n",
              "      <td>211.0</td>\n",
              "      <td>1</td>\n",
              "      <td>0</td>\n",
              "      <td>165.0</td>\n",
              "      <td>0</td>\n",
              "      <td>0.0</td>\n",
              "      <td>2.0</td>\n",
              "      <td>0</td>\n",
              "      <td>2</td>\n",
              "      <td>1</td>\n",
              "    </tr>\n",
              "    <tr>\n",
              "      <th>3</th>\n",
              "      <td>63.0</td>\n",
              "      <td>female</td>\n",
              "      <td>0</td>\n",
              "      <td>124</td>\n",
              "      <td>NaN</td>\n",
              "      <td>0</td>\n",
              "      <td>1</td>\n",
              "      <td>NaN</td>\n",
              "      <td>1</td>\n",
              "      <td>0.0</td>\n",
              "      <td>1.0</td>\n",
              "      <td>0</td>\n",
              "      <td>2</td>\n",
              "      <td>0</td>\n",
              "    </tr>\n",
              "    <tr>\n",
              "      <th>4</th>\n",
              "      <td>57.0</td>\n",
              "      <td>male</td>\n",
              "      <td>1</td>\n",
              "      <td>154</td>\n",
              "      <td>232.0</td>\n",
              "      <td>0</td>\n",
              "      <td>0</td>\n",
              "      <td>164.0</td>\n",
              "      <td>0</td>\n",
              "      <td>0.0</td>\n",
              "      <td>NaN</td>\n",
              "      <td>1</td>\n",
              "      <td>2</td>\n",
              "      <td>0</td>\n",
              "    </tr>\n",
              "  </tbody>\n",
              "</table>\n",
              "</div>\n",
              "      <button class=\"colab-df-convert\" onclick=\"convertToInteractive('df-493dd1a2-f25a-4d4e-afa5-f29853f213de')\"\n",
              "              title=\"Convert this dataframe to an interactive table.\"\n",
              "              style=\"display:none;\">\n",
              "        \n",
              "  <svg xmlns=\"http://www.w3.org/2000/svg\" height=\"24px\"viewBox=\"0 0 24 24\"\n",
              "       width=\"24px\">\n",
              "    <path d=\"M0 0h24v24H0V0z\" fill=\"none\"/>\n",
              "    <path d=\"M18.56 5.44l.94 2.06.94-2.06 2.06-.94-2.06-.94-.94-2.06-.94 2.06-2.06.94zm-11 1L8.5 8.5l.94-2.06 2.06-.94-2.06-.94L8.5 2.5l-.94 2.06-2.06.94zm10 10l.94 2.06.94-2.06 2.06-.94-2.06-.94-.94-2.06-.94 2.06-2.06.94z\"/><path d=\"M17.41 7.96l-1.37-1.37c-.4-.4-.92-.59-1.43-.59-.52 0-1.04.2-1.43.59L10.3 9.45l-7.72 7.72c-.78.78-.78 2.05 0 2.83L4 21.41c.39.39.9.59 1.41.59.51 0 1.02-.2 1.41-.59l7.78-7.78 2.81-2.81c.8-.78.8-2.07 0-2.86zM5.41 20L4 18.59l7.72-7.72 1.47 1.35L5.41 20z\"/>\n",
              "  </svg>\n",
              "      </button>\n",
              "      \n",
              "  <style>\n",
              "    .colab-df-container {\n",
              "      display:flex;\n",
              "      flex-wrap:wrap;\n",
              "      gap: 12px;\n",
              "    }\n",
              "\n",
              "    .colab-df-convert {\n",
              "      background-color: #E8F0FE;\n",
              "      border: none;\n",
              "      border-radius: 50%;\n",
              "      cursor: pointer;\n",
              "      display: none;\n",
              "      fill: #1967D2;\n",
              "      height: 32px;\n",
              "      padding: 0 0 0 0;\n",
              "      width: 32px;\n",
              "    }\n",
              "\n",
              "    .colab-df-convert:hover {\n",
              "      background-color: #E2EBFA;\n",
              "      box-shadow: 0px 1px 2px rgba(60, 64, 67, 0.3), 0px 1px 3px 1px rgba(60, 64, 67, 0.15);\n",
              "      fill: #174EA6;\n",
              "    }\n",
              "\n",
              "    [theme=dark] .colab-df-convert {\n",
              "      background-color: #3B4455;\n",
              "      fill: #D2E3FC;\n",
              "    }\n",
              "\n",
              "    [theme=dark] .colab-df-convert:hover {\n",
              "      background-color: #434B5C;\n",
              "      box-shadow: 0px 1px 3px 1px rgba(0, 0, 0, 0.15);\n",
              "      filter: drop-shadow(0px 1px 2px rgba(0, 0, 0, 0.3));\n",
              "      fill: #FFFFFF;\n",
              "    }\n",
              "  </style>\n",
              "\n",
              "      <script>\n",
              "        const buttonEl =\n",
              "          document.querySelector('#df-493dd1a2-f25a-4d4e-afa5-f29853f213de button.colab-df-convert');\n",
              "        buttonEl.style.display =\n",
              "          google.colab.kernel.accessAllowed ? 'block' : 'none';\n",
              "\n",
              "        async function convertToInteractive(key) {\n",
              "          const element = document.querySelector('#df-493dd1a2-f25a-4d4e-afa5-f29853f213de');\n",
              "          const dataTable =\n",
              "            await google.colab.kernel.invokeFunction('convertToInteractive',\n",
              "                                                     [key], {});\n",
              "          if (!dataTable) return;\n",
              "\n",
              "          const docLinkHtml = 'Like what you see? Visit the ' +\n",
              "            '<a target=\"_blank\" href=https://colab.research.google.com/notebooks/data_table.ipynb>data table notebook</a>'\n",
              "            + ' to learn more about interactive tables.';\n",
              "          element.innerHTML = '';\n",
              "          dataTable['output_type'] = 'display_data';\n",
              "          await google.colab.output.renderOutput(dataTable, element);\n",
              "          const docLink = document.createElement('div');\n",
              "          docLink.innerHTML = docLinkHtml;\n",
              "          element.appendChild(docLink);\n",
              "        }\n",
              "      </script>\n",
              "    </div>\n",
              "  </div>\n",
              "  "
            ],
            "text/plain": [
              "    age     sex  cp  trestbps   chol  ...  oldpeak  slope  ca  thal  target\n",
              "0  43.0     NaN   2       122    NaN  ...      0.2    1.0   0     2       1\n",
              "1  66.0  female   2       146  278.0  ...      0.0    1.0   1     2       1\n",
              "2  58.0    male   2       140  211.0  ...      0.0    2.0   0     2       1\n",
              "3  63.0  female   0       124    NaN  ...      0.0    1.0   0     2       0\n",
              "4  57.0    male   1       154  232.0  ...      0.0    NaN   1     2       0\n",
              "\n",
              "[5 rows x 14 columns]"
            ]
          },
          "metadata": {},
          "execution_count": 3
        }
      ],
      "source": [
        "data_df = pd.read_csv('lab03_train.csv') # Cho cột index là cột PassengerId\n",
        "data_df.head()"
      ]
    },
    {
      "cell_type": "code",
      "execution_count": 4,
      "metadata": {
        "colab": {
          "base_uri": "https://localhost:8080/"
        },
        "id": "PKu3RUoRaSS7",
        "outputId": "536b7985-de79-4cb5-8aba-b81a05476a16"
      },
      "outputs": [
        {
          "output_type": "stream",
          "name": "stdout",
          "text": [
            "<class 'pandas.core.frame.DataFrame'>\n",
            "RangeIndex: 242 entries, 0 to 241\n",
            "Data columns (total 14 columns):\n",
            " #   Column    Non-Null Count  Dtype  \n",
            "---  ------    --------------  -----  \n",
            " 0   age       221 non-null    float64\n",
            " 1   sex       196 non-null    object \n",
            " 2   cp        242 non-null    int64  \n",
            " 3   trestbps  242 non-null    int64  \n",
            " 4   chol      207 non-null    float64\n",
            " 5   fbs       242 non-null    int64  \n",
            " 6   restecg   242 non-null    int64  \n",
            " 7   thalach   70 non-null     float64\n",
            " 8   exang     242 non-null    int64  \n",
            " 9   oldpeak   206 non-null    float64\n",
            " 10  slope     216 non-null    float64\n",
            " 11  ca        242 non-null    int64  \n",
            " 12  thal      242 non-null    int64  \n",
            " 13  target    242 non-null    int64  \n",
            "dtypes: float64(5), int64(8), object(1)\n",
            "memory usage: 26.6+ KB\n"
          ]
        }
      ],
      "source": [
        "data_df.info()"
      ]
    },
    {
      "cell_type": "markdown",
      "metadata": {
        "id": "4OAxtr7XlVGw"
      },
      "source": [
        "### Dữ liệu có bao nhiêu dòng và bao nhiêu cột?"
      ]
    },
    {
      "cell_type": "code",
      "execution_count": 5,
      "metadata": {
        "colab": {
          "base_uri": "https://localhost:8080/"
        },
        "id": "zlZ1c7EflVGx",
        "outputId": "b6f3a1b8-d1a0-4b5f-a7b0-083c38f20762"
      },
      "outputs": [
        {
          "output_type": "execute_result",
          "data": {
            "text/plain": [
              "(242, 14)"
            ]
          },
          "metadata": {},
          "execution_count": 5
        }
      ],
      "source": [
        "data_df.shape"
      ]
    },
    {
      "cell_type": "markdown",
      "metadata": {
        "id": "a4Um_o5blVGx"
      },
      "source": [
        "### Mỗi dòng có ý nghĩa gì? Có vấn đề các dòng có ý nghĩa khác nhau không?"
      ]
    },
    {
      "cell_type": "markdown",
      "metadata": {
        "id": "ql5VsnYVlVGx"
      },
      "source": [
        "Quan sát sơ bộ dữ liệu ta thấy mỗi dòng chứa thông tin của một bệnh nhân, và có vẻ không có vấn đề các dòng có ý nghĩa khác nhau."
      ]
    },
    {
      "cell_type": "markdown",
      "metadata": {
        "id": "Ih5D0w0WlVGy"
      },
      "source": [
        "### Dữ liệu có các dòng bị lặp không?"
      ]
    },
    {
      "cell_type": "code",
      "execution_count": 6,
      "metadata": {
        "colab": {
          "base_uri": "https://localhost:8080/"
        },
        "id": "l8gMMMlmlVGy",
        "outputId": "120fbf36-5e8a-4d7d-cc0a-bc149faaef6b"
      },
      "outputs": [
        {
          "output_type": "execute_result",
          "data": {
            "text/plain": [
              "0"
            ]
          },
          "metadata": {},
          "execution_count": 6
        }
      ],
      "source": [
        "# Số dòng bị lặp\n",
        "data_df.index.duplicated().sum()"
      ]
    },
    {
      "cell_type": "markdown",
      "metadata": {
        "id": "vLl5KluIlVGy"
      },
      "source": [
        "### Mỗi cột có ý nghĩa gì?"
      ]
    },
    {
      "cell_type": "markdown",
      "metadata": {
        "id": "KW2RYNgwlVGy"
      },
      "source": [
        "Xem file \"description.txt\"."
      ]
    },
    {
      "cell_type": "code",
      "execution_count": 7,
      "metadata": {
        "colab": {
          "base_uri": "https://localhost:8080/"
        },
        "id": "scpKAvIRlVGz",
        "outputId": "163d277a-65b9-4c3a-84b8-52dbf284e569"
      },
      "outputs": [
        {
          "output_type": "stream",
          "name": "stdout",
          "text": [
            "1) age:\t\tage in years\n",
            "2) sex:\t\tsex (male; female)\n",
            "3) cp: \t\tchest pain type\n",
            "4) trestbps: \tresting blood pressure\n",
            "5) chol: \tserum cholestoral in mg/dl\n",
            "6) fbs: \tfasting blood sugar > 120 mg/dl\n",
            "7) restecg: \tresting electrocardiographic results (values 0,1,2)\n",
            "8) thalach: \tmaximum heart rate achieved\n",
            "9) exang: \texercise induced angina\n",
            "10) oldpeak: \t= ST depression induced by exercise relative to rest\n",
            "11) slope: \tthe slope of the peak exercise ST segment\n",
            "12) ca: \tnumber of major vessels (0-3) colored by flourosopy\n",
            "13) thal: \tdisplays the thalassemia\n"
          ]
        }
      ],
      "source": [
        "with open('description.txt', 'r') as f:\n",
        "    print(f.read())"
      ]
    },
    {
      "cell_type": "markdown",
      "metadata": {
        "id": "k7gIF118lVGz"
      },
      "source": [
        "---"
      ]
    },
    {
      "cell_type": "markdown",
      "metadata": {
        "id": "_rOAPNhBlVG0"
      },
      "source": [
        "Khám phá dữ liệu đến đây là đã đủ để có thể đưa ra câu hỏi cần trả lời. Sau khi đưa ra câu hỏi cần trả lời thì ta sẽ tiến hành ngay bước tiền xử lý là tách ra tập validation và tập test. Sau đó, ta có thể tiếp tục khám phá trên *tập train* (tập mà đã tách ra tập validation và tập test) để hiểu hơn về dữ liệu.\n",
        "\n",
        "Sở dĩ ta cần *tách sớm tập validation và tập test* vì 2 tập này (đặc biệt là tập test) cần phải được giữ bí mật để kết quả đánh giá được khách quan. Nếu ta khám phá dữ liệu nhiều quá, hiểu dữ liệu nhiều quá rồi mới tách các tập thì kết quả trên tập validation và tập test có thể sẽ không được khách quan vì ta có thể dùng các hiểu biết khi khám phá dữ liệu (có tập validation và tập test trong đó) để đưa ra các lựa chọn khi tiền xử lý và mô hình hóa dữ liệu (ở đây, mình muốn nói đến các hiểu biết mà chỉ đúng với tập dữ liệu cụ thể này chứ không thật sự là đúng)."
      ]
    },
    {
      "cell_type": "markdown",
      "metadata": {
        "id": "LujfMGvIlVG0"
      },
      "source": [
        "---"
      ]
    },
    {
      "cell_type": "markdown",
      "metadata": {
        "id": "jx3A7ZIglVG0"
      },
      "source": [
        "## Đưa ra câu hỏi cần trả lời"
      ]
    },
    {
      "cell_type": "markdown",
      "metadata": {
        "id": "HUhBEvzulVG0"
      },
      "source": [
        "Quan trọng nhất ở bước này là ta phải xác định đâu là ouput và input. Về các cột input, nếu được thì ta cố gắng xác định những cột nào sẽ không dùng đến dựa vào ý nghĩa của các cột và sẽ bỏ luôn các cột này để đơn giản hóa cho các bước lúc sau (nhất là trong trường hợp dữ liệu có nhiều cột); với những cột mà không chắc chắn là nên bỏ hay nên giữ thì tạm cứ để đó, và ta sẽ làm ở bước tiền xử lý lúc sau.\n",
        "\n",
        "Việc tìm ra câu trả lời này cho câu hỏi này thật ra không có nhiều ý nghĩa trong thực tế; mục đích chính của bài tập này và của bài tập này là để tập luyện tiền xử lý + mô hình hóa dữ liệu. "
      ]
    },
    {
      "cell_type": "markdown",
      "metadata": {
        "Collapsed": "false",
        "id": "WlhcRL0YlVG1"
      },
      "source": [
        "---"
      ]
    },
    {
      "cell_type": "markdown",
      "metadata": {
        "Collapsed": "false",
        "id": "dxHaKceolVG1"
      },
      "source": [
        "## Khám phá dữ liệu (để biết cách tách các tập)\n",
        "Để biết cách tách các tập thì ta cần khám phá thêm cột output một ít:\n",
        "- Cột này hiện có kiểu dữ liệu là gì? Trong bài toán hồi qui thì cột output bắt buộc phải có dạng số; nếu hiện chưa có dạng số (ví dụ, số nhưng được lưu dưới dạng chuỗi) thì ta cần chuyển sang dạng số rồi mới tách các tập.\n",
        "- Cột này có giá trị thiếu không? Nếu có giá trị thiếu thì ta sẽ bỏ các dòng mà output có giá trị thiếu rồi mới tách các tập (loại học mà học từ dữ liệu trong đó output có giá trị thiếu được gọi là bán giám sát (semi-supervised); trong phạm vi môn học, ta không đụng tới kỹ thuật này).\n",
        "- Nếu cột này có dạng categorical (phân lớp) thì tỉ lệ các lớp như thế nào? Nếu tỉ lệ các lớp bị chênh lệch nhau quá nhiều thì có thể ta sẽ cần quay lại bước thu thập dữ liệu và thu thập thêm để cho tỉ lệ các lớp không bị chênh lệnh quá nhiều (hoặc khi đánh giá ta cần có một độ đo phù hợp)."
      ]
    },
    {
      "cell_type": "code",
      "execution_count": 8,
      "metadata": {
        "colab": {
          "base_uri": "https://localhost:8080/"
        },
        "id": "Q2ksfSf-lVG1",
        "outputId": "9befcf53-f046-4dd6-d507-43823b14c678"
      },
      "outputs": [
        {
          "output_type": "execute_result",
          "data": {
            "text/plain": [
              "dtype('int64')"
            ]
          },
          "metadata": {},
          "execution_count": 8
        }
      ],
      "source": [
        "# Cột output hiện có kiểu dữ liệu gì?\n",
        "data_df['target'].dtype"
      ]
    },
    {
      "cell_type": "code",
      "execution_count": 9,
      "metadata": {
        "colab": {
          "base_uri": "https://localhost:8080/"
        },
        "id": "BcQnoMbxlVG1",
        "outputId": "b76c7dbb-f2ff-4b77-bb2b-215e54335978"
      },
      "outputs": [
        {
          "output_type": "execute_result",
          "data": {
            "text/plain": [
              "0"
            ]
          },
          "metadata": {},
          "execution_count": 9
        }
      ],
      "source": [
        "# Cột output có bao nhiêu giá trị thiếu?\n",
        "data_df['target'].isna().sum()"
      ]
    },
    {
      "cell_type": "code",
      "execution_count": 10,
      "metadata": {
        "colab": {
          "base_uri": "https://localhost:8080/",
          "height": 313
        },
        "id": "i758Nmi0lVG2",
        "outputId": "f2a8e778-9d06-48ce-dd55-c886ce1a6c18"
      },
      "outputs": [
        {
          "output_type": "execute_result",
          "data": {
            "text/plain": [
              "1    54.132231\n",
              "0    45.867769\n",
              "Name: target, dtype: float64"
            ]
          },
          "metadata": {},
          "execution_count": 10
        },
        {
          "output_type": "display_data",
          "data": {
            "image/png": "[encoded data removed]",
            "text/plain": [
              "<Figure size 432x288 with 1 Axes>"
            ]
          },
          "metadata": {
            "needs_background": "light"
          }
        }
      ],
      "source": [
        "# Tỉ lệ các lớp trong cột output?\n",
        "data_df.target.value_counts(normalize=True).plot(kind=\"bar\", color=[\"red\", \"blue\"])\n",
        "data_df['target'].value_counts(normalize=True) * 100"
      ]
    },
    {
      "cell_type": "markdown",
      "metadata": {
        "id": "Us43QXkvlVG2"
      },
      "source": [
        "OK, như vậy là không có vấn đề gì cả. Tỉ lệ giữa các lớp cũng khá cân bằng, vậy thì ta sẽ có thể áp dụng các kỹ thuật thông thường để giải quyết bài toán này"
      ]
    },
    {
      "cell_type": "markdown",
      "metadata": {
        "id": "NgcvfyEPlVG2"
      },
      "source": [
        "---"
      ]
    },
    {
      "cell_type": "markdown",
      "metadata": {
        "id": "oQXS782plVG3",
        "tags": []
      },
      "source": [
        "## Tiền xử lý (tách các tập)"
      ]
    },
    {
      "cell_type": "markdown",
      "metadata": {
        "id": "VOFzqJU_lVG3"
      },
      "source": [
        "Bây giờ ta sẽ thực hiện bước tiền xử lý là tách tập validation"
      ]
    },
    {
      "cell_type": "code",
      "execution_count": 11,
      "metadata": {
        "Collapsed": "false",
        "id": "GOxpBQ2hlVG3"
      },
      "outputs": [],
      "source": [
        "# Tách X và y\n",
        "y_sr = data_df[\"target\"] # sr là viết tắt của series\n",
        "X_df = data_df.drop(\"target\", axis=1)"
      ]
    },
    {
      "cell_type": "code",
      "execution_count": 12,
      "metadata": {
        "Collapsed": "false",
        "id": "tBKNBvtPlVG3"
      },
      "outputs": [],
      "source": [
        "# Tách tập huấn luyện và tập validation theo tỉ lệ 80%:20%\n",
        "train_X_df, val_X_df, train_y_sr, val_y_sr = \\\n",
        "                              train_test_split(X_df, y_sr, \n",
        "                                               test_size=0.2, \n",
        "                                               stratify=y_sr, \n",
        "                                               random_state=0)"
      ]
    },
    {
      "cell_type": "code",
      "execution_count": 13,
      "metadata": {
        "colab": {
          "base_uri": "https://localhost:8080/"
        },
        "id": "rxUbZC8IlVG3",
        "outputId": "3c89af31-7d5f-4657-88c0-f5120b64415d"
      },
      "outputs": [
        {
          "output_type": "execute_result",
          "data": {
            "text/plain": [
              "(193, 13)"
            ]
          },
          "metadata": {},
          "execution_count": 13
        }
      ],
      "source": [
        "train_X_df.shape"
      ]
    },
    {
      "cell_type": "code",
      "execution_count": 14,
      "metadata": {
        "colab": {
          "base_uri": "https://localhost:8080/"
        },
        "id": "Y6QO5DEwlVG4",
        "outputId": "2aefc940-3ecf-4f7a-e097-57f02c522dca"
      },
      "outputs": [
        {
          "output_type": "execute_result",
          "data": {
            "text/plain": [
              "(193,)"
            ]
          },
          "metadata": {},
          "execution_count": 14
        }
      ],
      "source": [
        "train_y_sr.shape"
      ]
    },
    {
      "cell_type": "code",
      "execution_count": 15,
      "metadata": {
        "colab": {
          "base_uri": "https://localhost:8080/"
        },
        "id": "tMzu6_kIlVG4",
        "outputId": "c9d78546-9dac-4b56-b3cd-799c1c50b370"
      },
      "outputs": [
        {
          "output_type": "execute_result",
          "data": {
            "text/plain": [
              "(49, 13)"
            ]
          },
          "metadata": {},
          "execution_count": 15
        }
      ],
      "source": [
        "val_X_df.shape"
      ]
    },
    {
      "cell_type": "code",
      "execution_count": 16,
      "metadata": {
        "colab": {
          "base_uri": "https://localhost:8080/"
        },
        "id": "as6Tz8telVG4",
        "outputId": "e986cbaf-08fe-4d52-9626-5b30e4396549"
      },
      "outputs": [
        {
          "output_type": "execute_result",
          "data": {
            "text/plain": [
              "(49,)"
            ]
          },
          "metadata": {},
          "execution_count": 16
        }
      ],
      "source": [
        "val_y_sr.shape"
      ]
    },
    {
      "cell_type": "code",
      "execution_count": 17,
      "metadata": {
        "Collapsed": "false",
        "colab": {
          "base_uri": "https://localhost:8080/"
        },
        "id": "mEJirtzJlVG4",
        "outputId": "9ba4e6a0-45fb-4ff3-c79c-6a792d0bad76"
      },
      "outputs": [
        {
          "output_type": "execute_result",
          "data": {
            "text/plain": [
              "Int64Index([214, 160, 23, 57, 206], dtype='int64')"
            ]
          },
          "metadata": {},
          "execution_count": 17
        }
      ],
      "source": [
        "train_X_df.head().index"
      ]
    },
    {
      "cell_type": "markdown",
      "metadata": {
        "Collapsed": "false",
        "id": "nxnp-5gilVG4"
      },
      "source": [
        "&#9889; Mình đã cố định `random_state` trong `train_test_split` để đảm bảo kết quả của mình ra giống với của bạn. Tuy nhiên, mình không biết là với các hệ điều hành khác nhau thì điều này có được đảm bảo không. Kết quả của câu lệnh `train_X_df.head().index` của mình ra 5 giá trị là: 214, 160, 23, 57, 206. Nếu của bạn ra khác thì bạn báo lại cho mình trên moodle (hoặc zalo), vì nếu ra khác thì các kết quả lúc sau của bạn cũng sẽ khác với của mình. "
      ]
    },
    {
      "cell_type": "markdown",
      "metadata": {
        "Collapsed": "false",
        "id": "b9EXZJOalVG5"
      },
      "source": [
        "---"
      ]
    },
    {
      "cell_type": "markdown",
      "metadata": {
        "Collapsed": "false",
        "id": "83Q7v7BYlVG5"
      },
      "source": [
        "## Khám phá dữ liệu trên tập train"
      ]
    },
    {
      "cell_type": "markdown",
      "metadata": {
        "id": "ZEM0lFBHlVG5"
      },
      "source": [
        "Sau khi đã tách ra các tập thì ta có thể thoải mái khám phá trên tập huấn luyện mà không lo sẽ làm kết quả trên tập validation và tập test bị mất đi sự khách quan."
      ]
    },
    {
      "cell_type": "markdown",
      "metadata": {
        "id": "LY1HXxl3lVG5"
      },
      "source": [
        "### Mỗi cột input hiện đang có kiểu dữ liệu gì? Có cột nào có kiểu dữ liệu chưa phù hợp để có thể xử lý tiếp không?"
      ]
    },
    {
      "cell_type": "code",
      "execution_count": 18,
      "metadata": {
        "colab": {
          "base_uri": "https://localhost:8080/"
        },
        "id": "fGmgPdoulVG5",
        "outputId": "b1c092b5-c54f-40db-9558-03883422c482"
      },
      "outputs": [
        {
          "output_type": "execute_result",
          "data": {
            "text/plain": [
              "age         float64\n",
              "sex          object\n",
              "cp            int64\n",
              "trestbps      int64\n",
              "chol        float64\n",
              "fbs           int64\n",
              "restecg       int64\n",
              "thalach     float64\n",
              "exang         int64\n",
              "oldpeak     float64\n",
              "slope       float64\n",
              "ca            int64\n",
              "thal          int64\n",
              "dtype: object"
            ]
          },
          "metadata": {},
          "execution_count": 18
        }
      ],
      "source": [
        "train_X_df.dtypes"
      ]
    },
    {
      "cell_type": "markdown",
      "metadata": {
        "id": "Kp_SG9hwlVG6"
      },
      "source": [
        "Có vẻ các cột đều có kiểu dữ liệu phù hợp. "
      ]
    },
    {
      "cell_type": "markdown",
      "metadata": {
        "id": "QtmDTZWUlVG6"
      },
      "source": [
        "### Với mỗi cột input có kiểu dữ liệu dạng số, các giá trị được phân bố như thế nào?"
      ]
    },
    {
      "cell_type": "code",
      "execution_count": 19,
      "metadata": {
        "colab": {
          "base_uri": "https://localhost:8080/"
        },
        "id": "04n9XUeIlVG6",
        "outputId": "a1556db2-632a-418e-be7d-d9939984d962"
      },
      "outputs": [
        {
          "output_type": "execute_result",
          "data": {
            "text/plain": [
              "age         float64\n",
              "cp            int64\n",
              "trestbps      int64\n",
              "chol        float64\n",
              "fbs           int64\n",
              "restecg       int64\n",
              "thalach     float64\n",
              "exang         int64\n",
              "oldpeak     float64\n",
              "slope       float64\n",
              "ca            int64\n",
              "thal          int64\n",
              "dtype: object"
            ]
          },
          "metadata": {},
          "execution_count": 19
        }
      ],
      "source": [
        "train_X_df.dtypes[train_X_df.dtypes != object]"
      ]
    },
    {
      "cell_type": "code",
      "execution_count": 20,
      "metadata": {
        "colab": {
          "base_uri": "https://localhost:8080/",
          "height": 295
        },
        "id": "UBpuFrXrcoVE",
        "outputId": "ddd7ec7c-3d9f-49a6-83a4-01dc50d11f88"
      },
      "outputs": [
        {
          "output_type": "execute_result",
          "data": {
            "text/html": [
              "\n",
              "  <div id=\"df-f615b85d-8376-42dc-9f54-06aacf7ab45a\">\n",
              "    <div class=\"colab-df-container\">\n",
              "      <div>\n",
              "<style scoped>\n",
              "    .dataframe tbody tr th:only-of-type {\n",
              "        vertical-align: middle;\n",
              "    }\n",
              "\n",
              "    .dataframe tbody tr th {\n",
              "        vertical-align: top;\n",
              "    }\n",
              "\n",
              "    .dataframe thead th {\n",
              "        text-align: right;\n",
              "    }\n",
              "</style>\n",
              "<table border=\"1\" class=\"dataframe\">\n",
              "  <thead>\n",
              "    <tr style=\"text-align: right;\">\n",
              "      <th></th>\n",
              "      <th>age</th>\n",
              "      <th>cp</th>\n",
              "      <th>trestbps</th>\n",
              "      <th>chol</th>\n",
              "      <th>fbs</th>\n",
              "      <th>restecg</th>\n",
              "      <th>thalach</th>\n",
              "      <th>exang</th>\n",
              "      <th>oldpeak</th>\n",
              "      <th>slope</th>\n",
              "      <th>ca</th>\n",
              "      <th>thal</th>\n",
              "    </tr>\n",
              "  </thead>\n",
              "  <tbody>\n",
              "    <tr>\n",
              "      <th>count</th>\n",
              "      <td>174.00</td>\n",
              "      <td>193.00</td>\n",
              "      <td>193.00</td>\n",
              "      <td>164.00</td>\n",
              "      <td>193.00</td>\n",
              "      <td>193.00</td>\n",
              "      <td>55.00</td>\n",
              "      <td>193.00</td>\n",
              "      <td>164.00</td>\n",
              "      <td>171.00</td>\n",
              "      <td>193.00</td>\n",
              "      <td>193.00</td>\n",
              "    </tr>\n",
              "    <tr>\n",
              "      <th>mean</th>\n",
              "      <td>55.18</td>\n",
              "      <td>1.15</td>\n",
              "      <td>131.85</td>\n",
              "      <td>245.91</td>\n",
              "      <td>0.14</td>\n",
              "      <td>0.55</td>\n",
              "      <td>147.04</td>\n",
              "      <td>0.31</td>\n",
              "      <td>1.06</td>\n",
              "      <td>1.45</td>\n",
              "      <td>0.70</td>\n",
              "      <td>2.31</td>\n",
              "    </tr>\n",
              "    <tr>\n",
              "      <th>std</th>\n",
              "      <td>9.08</td>\n",
              "      <td>1.64</td>\n",
              "      <td>16.51</td>\n",
              "      <td>50.38</td>\n",
              "      <td>0.35</td>\n",
              "      <td>0.54</td>\n",
              "      <td>23.36</td>\n",
              "      <td>0.46</td>\n",
              "      <td>1.22</td>\n",
              "      <td>0.61</td>\n",
              "      <td>1.00</td>\n",
              "      <td>0.62</td>\n",
              "    </tr>\n",
              "    <tr>\n",
              "      <th>min</th>\n",
              "      <td>29.00</td>\n",
              "      <td>0.00</td>\n",
              "      <td>100.00</td>\n",
              "      <td>131.00</td>\n",
              "      <td>0.00</td>\n",
              "      <td>0.00</td>\n",
              "      <td>71.00</td>\n",
              "      <td>0.00</td>\n",
              "      <td>0.00</td>\n",
              "      <td>0.00</td>\n",
              "      <td>0.00</td>\n",
              "      <td>0.00</td>\n",
              "    </tr>\n",
              "    <tr>\n",
              "      <th>25%</th>\n",
              "      <td>48.00</td>\n",
              "      <td>0.00</td>\n",
              "      <td>120.00</td>\n",
              "      <td>211.75</td>\n",
              "      <td>0.00</td>\n",
              "      <td>0.00</td>\n",
              "      <td>131.50</td>\n",
              "      <td>0.00</td>\n",
              "      <td>0.00</td>\n",
              "      <td>1.00</td>\n",
              "      <td>0.00</td>\n",
              "      <td>2.00</td>\n",
              "    </tr>\n",
              "    <tr>\n",
              "      <th>50%</th>\n",
              "      <td>57.00</td>\n",
              "      <td>1.00</td>\n",
              "      <td>130.00</td>\n",
              "      <td>239.00</td>\n",
              "      <td>0.00</td>\n",
              "      <td>1.00</td>\n",
              "      <td>152.00</td>\n",
              "      <td>0.00</td>\n",
              "      <td>0.70</td>\n",
              "      <td>2.00</td>\n",
              "      <td>0.00</td>\n",
              "      <td>2.00</td>\n",
              "    </tr>\n",
              "    <tr>\n",
              "      <th>75%</th>\n",
              "      <td>62.00</td>\n",
              "      <td>2.00</td>\n",
              "      <td>140.00</td>\n",
              "      <td>275.25</td>\n",
              "      <td>0.00</td>\n",
              "      <td>1.00</td>\n",
              "      <td>162.50</td>\n",
              "      <td>1.00</td>\n",
              "      <td>1.80</td>\n",
              "      <td>2.00</td>\n",
              "      <td>1.00</td>\n",
              "      <td>3.00</td>\n",
              "    </tr>\n",
              "    <tr>\n",
              "      <th>max</th>\n",
              "      <td>76.00</td>\n",
              "      <td>9.00</td>\n",
              "      <td>180.00</td>\n",
              "      <td>417.00</td>\n",
              "      <td>1.00</td>\n",
              "      <td>2.00</td>\n",
              "      <td>182.00</td>\n",
              "      <td>1.00</td>\n",
              "      <td>6.20</td>\n",
              "      <td>2.00</td>\n",
              "      <td>4.00</td>\n",
              "      <td>3.00</td>\n",
              "    </tr>\n",
              "  </tbody>\n",
              "</table>\n",
              "</div>\n",
              "      <button class=\"colab-df-convert\" onclick=\"convertToInteractive('df-f615b85d-8376-42dc-9f54-06aacf7ab45a')\"\n",
              "              title=\"Convert this dataframe to an interactive table.\"\n",
              "              style=\"display:none;\">\n",
              "        \n",
              "  <svg xmlns=\"http://www.w3.org/2000/svg\" height=\"24px\"viewBox=\"0 0 24 24\"\n",
              "       width=\"24px\">\n",
              "    <path d=\"M0 0h24v24H0V0z\" fill=\"none\"/>\n",
              "    <path d=\"M18.56 5.44l.94 2.06.94-2.06 2.06-.94-2.06-.94-.94-2.06-.94 2.06-2.06.94zm-11 1L8.5 8.5l.94-2.06 2.06-.94-2.06-.94L8.5 2.5l-.94 2.06-2.06.94zm10 10l.94 2.06.94-2.06 2.06-.94-2.06-.94-.94-2.06-.94 2.06-2.06.94z\"/><path d=\"M17.41 7.96l-1.37-1.37c-.4-.4-.92-.59-1.43-.59-.52 0-1.04.2-1.43.59L10.3 9.45l-7.72 7.72c-.78.78-.78 2.05 0 2.83L4 21.41c.39.39.9.59 1.41.59.51 0 1.02-.2 1.41-.59l7.78-7.78 2.81-2.81c.8-.78.8-2.07 0-2.86zM5.41 20L4 18.59l7.72-7.72 1.47 1.35L5.41 20z\"/>\n",
              "  </svg>\n",
              "      </button>\n",
              "      \n",
              "  <style>\n",
              "    .colab-df-container {\n",
              "      display:flex;\n",
              "      flex-wrap:wrap;\n",
              "      gap: 12px;\n",
              "    }\n",
              "\n",
              "    .colab-df-convert {\n",
              "      background-color: #E8F0FE;\n",
              "      border: none;\n",
              "      border-radius: 50%;\n",
              "      cursor: pointer;\n",
              "      display: none;\n",
              "      fill: #1967D2;\n",
              "      height: 32px;\n",
              "      padding: 0 0 0 0;\n",
              "      width: 32px;\n",
              "    }\n",
              "\n",
              "    .colab-df-convert:hover {\n",
              "      background-color: #E2EBFA;\n",
              "      box-shadow: 0px 1px 2px rgba(60, 64, 67, 0.3), 0px 1px 3px 1px rgba(60, 64, 67, 0.15);\n",
              "      fill: #174EA6;\n",
              "    }\n",
              "\n",
              "    [theme=dark] .colab-df-convert {\n",
              "      background-color: #3B4455;\n",
              "      fill: #D2E3FC;\n",
              "    }\n",
              "\n",
              "    [theme=dark] .colab-df-convert:hover {\n",
              "      background-color: #434B5C;\n",
              "      box-shadow: 0px 1px 3px 1px rgba(0, 0, 0, 0.15);\n",
              "      filter: drop-shadow(0px 1px 2px rgba(0, 0, 0, 0.3));\n",
              "      fill: #FFFFFF;\n",
              "    }\n",
              "  </style>\n",
              "\n",
              "      <script>\n",
              "        const buttonEl =\n",
              "          document.querySelector('#df-f615b85d-8376-42dc-9f54-06aacf7ab45a button.colab-df-convert');\n",
              "        buttonEl.style.display =\n",
              "          google.colab.kernel.accessAllowed ? 'block' : 'none';\n",
              "\n",
              "        async function convertToInteractive(key) {\n",
              "          const element = document.querySelector('#df-f615b85d-8376-42dc-9f54-06aacf7ab45a');\n",
              "          const dataTable =\n",
              "            await google.colab.kernel.invokeFunction('convertToInteractive',\n",
              "                                                     [key], {});\n",
              "          if (!dataTable) return;\n",
              "\n",
              "          const docLinkHtml = 'Like what you see? Visit the ' +\n",
              "            '<a target=\"_blank\" href=https://colab.research.google.com/notebooks/data_table.ipynb>data table notebook</a>'\n",
              "            + ' to learn more about interactive tables.';\n",
              "          element.innerHTML = '';\n",
              "          dataTable['output_type'] = 'display_data';\n",
              "          await google.colab.output.renderOutput(dataTable, element);\n",
              "          const docLink = document.createElement('div');\n",
              "          docLink.innerHTML = docLinkHtml;\n",
              "          element.appendChild(docLink);\n",
              "        }\n",
              "      </script>\n",
              "    </div>\n",
              "  </div>\n",
              "  "
            ],
            "text/plain": [
              "         age     cp  trestbps   chol  ...  oldpeak  slope     ca   thal\n",
              "count 174.00 193.00    193.00 164.00  ...   164.00 171.00 193.00 193.00\n",
              "mean   55.18   1.15    131.85 245.91  ...     1.06   1.45   0.70   2.31\n",
              "std     9.08   1.64     16.51  50.38  ...     1.22   0.61   1.00   0.62\n",
              "min    29.00   0.00    100.00 131.00  ...     0.00   0.00   0.00   0.00\n",
              "25%    48.00   0.00    120.00 211.75  ...     0.00   1.00   0.00   2.00\n",
              "50%    57.00   1.00    130.00 239.00  ...     0.70   2.00   0.00   2.00\n",
              "75%    62.00   2.00    140.00 275.25  ...     1.80   2.00   1.00   3.00\n",
              "max    76.00   9.00    180.00 417.00  ...     6.20   2.00   4.00   3.00\n",
              "\n",
              "[8 rows x 12 columns]"
            ]
          },
          "metadata": {},
          "execution_count": 20
        }
      ],
      "source": [
        "pd.set_option(\"display.float\", \"{:.2f}\".format)\n",
        "train_X_df.describe()"
      ]
    },
    {
      "cell_type": "markdown",
      "metadata": {
        "Collapsed": "false",
        "id": "L12O7thLlVG8"
      },
      "source": [
        "---"
      ]
    },
    {
      "cell_type": "markdown",
      "metadata": {
        "id": "zbGOiPEglVG8"
      },
      "source": [
        "## Tiền xử lý (tập huấn luyện) (3.5đ)"
      ]
    },
    {
      "cell_type": "markdown",
      "metadata": {
        "Collapsed": "false",
        "id": "3EvZW1chlVG8"
      },
      "source": [
        "Đầu tiên, ta sẽ thêm và bỏ một số cột như sau: \n",
        "- Với cột `cp`, ta sẽ tiến hành rút trích ra cột `cp_reduced` tương ứng. Khi khám phá, bạn sẽ thấy `cp` có khá nhiều giá trị khác nhau trong tập train (bạn xem thử thì sẽ thấy có 10 giá trị, trong tập test có thể nhiều hơn), trong đó có các giá trị chỉ xuất hiện một hoặc với số lần rất ít; nếu ta để nguyên thì khi chuyển sang dạng số bằng phương pháp one-hot sẽ có nhiều cột &#8594; dễ bị overfit. Ta sẽ xử lý vấn đề này như sau: chỉ lấy `num_top_cp_values` (ví dụ, 4) giá trị xuất hiện nhiều nhất, các giá trị còn lại sẽ được thay thế bằng giá trị `-1` (Khi mô hình hóa, ta sẽ mã hóa cột này dưới dạng one-hot nên chọn giá trị nào không nằm trong `top_cp_values` để thay thế cũng được, nhưng mình sẽ thống nhất chọn giá trị `-1`). Lúc sau, ta sẽ thí nghiệm để chọn ra giá trị `num_top_cp_values` phù hợp. Sau khi xử lý cột `cp_reduced` như vừa nói, ta thêm cột này vào dataframe và bỏ cột `cp` đi.\n",
        "- Bỏ cột `thalach` vì cột này có quá nhiều giá thiếu.\n",
        "\n",
        "\n",
        "Class `ColAdderDropper` ở dưới đây sẽ thực hiện các bước ở trên. Vì trong các bước ở trên, có bước ta cần tính toán các giá trị từ tập huấn luyện (`num_top_cp_values` giá trị của cột \"cp_reduced\" mà xuất hiện nhiều nhất) và dùng các giá trị này để \"transform\" tập dữ liệu (có thể là tập huấn luyện, có thể là tập validation hoặc tập kiểm tra) nên ta phải tự định nghĩa một class theo dạng \"transformer\" của Sklearn (để lúc sau có thể dùng pipeline của Sklearn) và trong đó ta phải tự định nghĩa phương thức `fit` và `transform` (còn nếu chỉ cần \"transform\" tập dữ liệu mà không cần tính toán giá trị gì từ tập huấn luyện thì dùng `FunctionTransformer` như trong file \"08-Demo.ipynb\" sẽ tiện lợi hơn). Bạn lưu ý: phương thức `fit` chỉ được dùng trên tập huấn luyện, còn phương thức `transform` (sau khi đã `fit`) có thể được dùng cho bất kỳ tập nào.\n",
        "\n",
        "Ở dưới, mình đã cài đặt sẵn phương thức `fit`; sau khi `fit`, các giá trị của cột `cp` cùng với số lần xuất hiện sẽ được lưu vào thuộc tính `self.cp_counts_` (khi \"transform\" thì không cần dùng đến thông tin này, nhưng có thể bạn sẽ muốn xem thông tin này), và `num_top_cp_values` giá trị xuất hiện nhiều nhất sẽ được lưu vào `self.top_cp_values_` (`num_top_cp_values` là siêu tham số mà phải chỉ định khi tạo ra một đối tượng thuộc class này). Nhiệm vụ của bạn là cài đặt phương thức `transform` (trong đó, sẽ cần dùng đến `self.top_cp_values_`); bạn lưu ý không làm thay đổi dữ liệu ở `X_df` truyền vào.\n",
        "\n",
        "Ngoài ra, như bạn có thể thấy ở bên dưới, class `ColAdderDropper` được kế thừa từ 2 class của Sklearn là `BaseEstimator` và `TransformerMixin`. Việc kế thừa này giúp class của ta tự động có các phương thức như `set_params`, `get_params`, `fit_transform` (nếu không thì ta sẽ phải tự định nghĩa các phương thức này). Nếu muốn tìm hiểu thêm về cách viết class theo dạng của Sklearn, bạn có thể đọc [ở đây](https://scikit-learn.org/stable/developers/develop.html?highlight=baseestimator)."
      ]
    },
    {
      "cell_type": "code",
      "execution_count": 21,
      "metadata": {
        "Collapsed": "false",
        "deletable": false,
        "id": "v5VbKC_ilVG8",
        "nbgrader": {
          "cell_type": "code",
          "checksum": "9bbd42fec4a1b01ae8a8a58dc28e06d2",
          "grade": false,
          "grade_id": "cell-c2cb62acb65582f6",
          "locked": false,
          "schema_version": 3,
          "solution": true,
          "task": false
        }
      },
      "outputs": [],
      "source": [
        "class ColAdderDropper(BaseEstimator, TransformerMixin):\n",
        "    def __init__(self, num_top_cp_values=3):\n",
        "        self.num_top_cp_values = num_top_cp_values\n",
        "        \n",
        "    def fit(self, X_df, y=None):\n",
        "        self.cp_counts_ = X_df['cp'].value_counts()\n",
        "        cps = list(self.cp_counts_.index)\n",
        "        self.top_cp_values_ = cps[:max(1, min(self.num_top_cp_values, len(cps)))]\n",
        "        return self\n",
        "    \n",
        "    def transform(self, X_df, y=None):\n",
        "        \n",
        "        out_df = X_df.copy()\n",
        "        # YOUR CODE HERE\n",
        "        out_df['cp_reduced'] = np.where(np.isin(out_df['cp'], self.top_cp_values_), out_df['cp'], -1)\n",
        "        out_df = out_df.drop(columns=['cp', 'thalach'])\n",
        "        \n",
        "        out_df = out_df.sort_index(axis=1)\n",
        "        return out_df"
      ]
    },
    {
      "cell_type": "code",
      "execution_count": 22,
      "metadata": {
        "colab": {
          "base_uri": "https://localhost:8080/"
        },
        "id": "-CYn5spSlVG9",
        "outputId": "12016e9e-da87-4390-ad96-76f7edc4604f"
      },
      "outputs": [
        {
          "output_type": "stream",
          "name": "stdout",
          "text": [
            "0    117\n",
            "2     69\n",
            "1     36\n",
            "3      5\n",
            "6      4\n",
            "9      3\n",
            "4      3\n",
            "7      2\n",
            "5      2\n",
            "8      1\n",
            "Name: cp, dtype: int64\n",
            "\n",
            "[0, 2, 1]\n"
          ]
        }
      ],
      "source": [
        "# TEST FIT METHOD\n",
        "col_adderdropper = ColAdderDropper(num_top_cp_values=3)\n",
        "col_adderdropper.fit(data_df)\n",
        "print(col_adderdropper.cp_counts_)\n",
        "print()\n",
        "print(col_adderdropper.top_cp_values_)"
      ]
    },
    {
      "cell_type": "code",
      "execution_count": 23,
      "metadata": {
        "Collapsed": "false",
        "colab": {
          "base_uri": "https://localhost:8080/",
          "height": 203
        },
        "deletable": false,
        "editable": false,
        "id": "ujHTyrGJlVG9",
        "nbgrader": {
          "cell_type": "code",
          "checksum": "258f156033739a9ad92fb68786c9f38b",
          "grade": true,
          "grade_id": "cell-7a54f3df0d0a2556",
          "locked": true,
          "points": 1,
          "schema_version": 3,
          "solution": false,
          "task": false
        },
        "outputId": "f04c18cc-79f2-4da7-aef0-aab51008ca5a"
      },
      "outputs": [
        {
          "output_type": "execute_result",
          "data": {
            "text/html": [
              "\n",
              "  <div id=\"df-a74a1631-4016-44d2-a8bd-f8766a9369ad\">\n",
              "    <div class=\"colab-df-container\">\n",
              "      <div>\n",
              "<style scoped>\n",
              "    .dataframe tbody tr th:only-of-type {\n",
              "        vertical-align: middle;\n",
              "    }\n",
              "\n",
              "    .dataframe tbody tr th {\n",
              "        vertical-align: top;\n",
              "    }\n",
              "\n",
              "    .dataframe thead th {\n",
              "        text-align: right;\n",
              "    }\n",
              "</style>\n",
              "<table border=\"1\" class=\"dataframe\">\n",
              "  <thead>\n",
              "    <tr style=\"text-align: right;\">\n",
              "      <th></th>\n",
              "      <th>age</th>\n",
              "      <th>ca</th>\n",
              "      <th>chol</th>\n",
              "      <th>cp_reduced</th>\n",
              "      <th>exang</th>\n",
              "      <th>fbs</th>\n",
              "      <th>oldpeak</th>\n",
              "      <th>restecg</th>\n",
              "      <th>sex</th>\n",
              "      <th>slope</th>\n",
              "      <th>thal</th>\n",
              "      <th>trestbps</th>\n",
              "    </tr>\n",
              "  </thead>\n",
              "  <tbody>\n",
              "    <tr>\n",
              "      <th>214</th>\n",
              "      <td>64.00</td>\n",
              "      <td>0</td>\n",
              "      <td>335.00</td>\n",
              "      <td>2</td>\n",
              "      <td>0</td>\n",
              "      <td>0</td>\n",
              "      <td>0.00</td>\n",
              "      <td>1</td>\n",
              "      <td>NaN</td>\n",
              "      <td>2.00</td>\n",
              "      <td>2</td>\n",
              "      <td>140</td>\n",
              "    </tr>\n",
              "    <tr>\n",
              "      <th>160</th>\n",
              "      <td>49.00</td>\n",
              "      <td>0</td>\n",
              "      <td>271.00</td>\n",
              "      <td>1</td>\n",
              "      <td>0</td>\n",
              "      <td>0</td>\n",
              "      <td>0.00</td>\n",
              "      <td>1</td>\n",
              "      <td>female</td>\n",
              "      <td>nan</td>\n",
              "      <td>2</td>\n",
              "      <td>134</td>\n",
              "    </tr>\n",
              "    <tr>\n",
              "      <th>23</th>\n",
              "      <td>59.00</td>\n",
              "      <td>1</td>\n",
              "      <td>239.00</td>\n",
              "      <td>0</td>\n",
              "      <td>1</td>\n",
              "      <td>0</td>\n",
              "      <td>nan</td>\n",
              "      <td>0</td>\n",
              "      <td>male</td>\n",
              "      <td>1.00</td>\n",
              "      <td>3</td>\n",
              "      <td>110</td>\n",
              "    </tr>\n",
              "    <tr>\n",
              "      <th>57</th>\n",
              "      <td>60.00</td>\n",
              "      <td>0</td>\n",
              "      <td>nan</td>\n",
              "      <td>2</td>\n",
              "      <td>0</td>\n",
              "      <td>1</td>\n",
              "      <td>0.00</td>\n",
              "      <td>1</td>\n",
              "      <td>female</td>\n",
              "      <td>2.00</td>\n",
              "      <td>2</td>\n",
              "      <td>120</td>\n",
              "    </tr>\n",
              "    <tr>\n",
              "      <th>206</th>\n",
              "      <td>65.00</td>\n",
              "      <td>0</td>\n",
              "      <td>177.00</td>\n",
              "      <td>0</td>\n",
              "      <td>0</td>\n",
              "      <td>0</td>\n",
              "      <td>0.40</td>\n",
              "      <td>1</td>\n",
              "      <td>male</td>\n",
              "      <td>2.00</td>\n",
              "      <td>3</td>\n",
              "      <td>120</td>\n",
              "    </tr>\n",
              "  </tbody>\n",
              "</table>\n",
              "</div>\n",
              "      <button class=\"colab-df-convert\" onclick=\"convertToInteractive('df-a74a1631-4016-44d2-a8bd-f8766a9369ad')\"\n",
              "              title=\"Convert this dataframe to an interactive table.\"\n",
              "              style=\"display:none;\">\n",
              "        \n",
              "  <svg xmlns=\"http://www.w3.org/2000/svg\" height=\"24px\"viewBox=\"0 0 24 24\"\n",
              "       width=\"24px\">\n",
              "    <path d=\"M0 0h24v24H0V0z\" fill=\"none\"/>\n",
              "    <path d=\"M18.56 5.44l.94 2.06.94-2.06 2.06-.94-2.06-.94-.94-2.06-.94 2.06-2.06.94zm-11 1L8.5 8.5l.94-2.06 2.06-.94-2.06-.94L8.5 2.5l-.94 2.06-2.06.94zm10 10l.94 2.06.94-2.06 2.06-.94-2.06-.94-.94-2.06-.94 2.06-2.06.94z\"/><path d=\"M17.41 7.96l-1.37-1.37c-.4-.4-.92-.59-1.43-.59-.52 0-1.04.2-1.43.59L10.3 9.45l-7.72 7.72c-.78.78-.78 2.05 0 2.83L4 21.41c.39.39.9.59 1.41.59.51 0 1.02-.2 1.41-.59l7.78-7.78 2.81-2.81c.8-.78.8-2.07 0-2.86zM5.41 20L4 18.59l7.72-7.72 1.47 1.35L5.41 20z\"/>\n",
              "  </svg>\n",
              "      </button>\n",
              "      \n",
              "  <style>\n",
              "    .colab-df-container {\n",
              "      display:flex;\n",
              "      flex-wrap:wrap;\n",
              "      gap: 12px;\n",
              "    }\n",
              "\n",
              "    .colab-df-convert {\n",
              "      background-color: #E8F0FE;\n",
              "      border: none;\n",
              "      border-radius: 50%;\n",
              "      cursor: pointer;\n",
              "      display: none;\n",
              "      fill: #1967D2;\n",
              "      height: 32px;\n",
              "      padding: 0 0 0 0;\n",
              "      width: 32px;\n",
              "    }\n",
              "\n",
              "    .colab-df-convert:hover {\n",
              "      background-color: #E2EBFA;\n",
              "      box-shadow: 0px 1px 2px rgba(60, 64, 67, 0.3), 0px 1px 3px 1px rgba(60, 64, 67, 0.15);\n",
              "      fill: #174EA6;\n",
              "    }\n",
              "\n",
              "    [theme=dark] .colab-df-convert {\n",
              "      background-color: #3B4455;\n",
              "      fill: #D2E3FC;\n",
              "    }\n",
              "\n",
              "    [theme=dark] .colab-df-convert:hover {\n",
              "      background-color: #434B5C;\n",
              "      box-shadow: 0px 1px 3px 1px rgba(0, 0, 0, 0.15);\n",
              "      filter: drop-shadow(0px 1px 2px rgba(0, 0, 0, 0.3));\n",
              "      fill: #FFFFFF;\n",
              "    }\n",
              "  </style>\n",
              "\n",
              "      <script>\n",
              "        const buttonEl =\n",
              "          document.querySelector('#df-a74a1631-4016-44d2-a8bd-f8766a9369ad button.colab-df-convert');\n",
              "        buttonEl.style.display =\n",
              "          google.colab.kernel.accessAllowed ? 'block' : 'none';\n",
              "\n",
              "        async function convertToInteractive(key) {\n",
              "          const element = document.querySelector('#df-a74a1631-4016-44d2-a8bd-f8766a9369ad');\n",
              "          const dataTable =\n",
              "            await google.colab.kernel.invokeFunction('convertToInteractive',\n",
              "                                                     [key], {});\n",
              "          if (!dataTable) return;\n",
              "\n",
              "          const docLinkHtml = 'Like what you see? Visit the ' +\n",
              "            '<a target=\"_blank\" href=https://colab.research.google.com/notebooks/data_table.ipynb>data table notebook</a>'\n",
              "            + ' to learn more about interactive tables.';\n",
              "          element.innerHTML = '';\n",
              "          dataTable['output_type'] = 'display_data';\n",
              "          await google.colab.output.renderOutput(dataTable, element);\n",
              "          const docLink = document.createElement('div');\n",
              "          docLink.innerHTML = docLinkHtml;\n",
              "          element.appendChild(docLink);\n",
              "        }\n",
              "      </script>\n",
              "    </div>\n",
              "  </div>\n",
              "  "
            ],
            "text/plain": [
              "      age  ca   chol  cp_reduced  exang  ...  restecg     sex  slope thal  trestbps\n",
              "214 64.00   0 335.00           2      0  ...        1     NaN   2.00    2       140\n",
              "160 49.00   0 271.00           1      0  ...        1  female    nan    2       134\n",
              "23  59.00   1 239.00           0      1  ...        0    male   1.00    3       110\n",
              "57  60.00   0    nan           2      0  ...        1  female   2.00    2       120\n",
              "206 65.00   0 177.00           0      0  ...        1    male   2.00    3       120\n",
              "\n",
              "[5 rows x 12 columns]"
            ]
          },
          "metadata": {},
          "execution_count": 23
        }
      ],
      "source": [
        "# TEST TRANSFORM METHOD\n",
        "fewer_cols_train_X_df = col_adderdropper.transform(train_X_df)\n",
        "assert set(fewer_cols_train_X_df.columns) == \\\n",
        "                                {'age', 'ca', 'chol', 'cp_reduced', 'exang', 'fbs', 'oldpeak', 'restecg', 'sex', 'slope', 'thal', 'trestbps'}\n",
        "                                \n",
        "assert np.all(fewer_cols_train_X_df['cp_reduced'].value_counts() == \\\n",
        "              pd.Series([94, 55, 29, 15], \n",
        "                        [0, 2, 1, -1]))\n",
        "fewer_cols_train_X_df.head()"
      ]
    },
    {
      "cell_type": "markdown",
      "metadata": {
        "Collapsed": "false",
        "id": "k0Y6VOjvlVG-"
      },
      "source": [
        "Đến đây, các bạn sẽ phải rút ra danh sách các cột dạng số (numerical) và các cột không phải dạng số (categorical). Các bước tiền xử lý tiếp theo như sau:\n",
        "- Với các cột dạng số, ta sẽ điền giá trị thiếu bằng giá trị mean của cột <font color=gray>(gợi ý: dùng `SimpleImputer` trong Sklearn)</font>. Với *tất cả* các cột dạng số trong tập huấn luyện, ta đều cần tính mean, vì ta không biết được cột nào sẽ bị thiếu giá trị khi dự đoán với các véc-tơ input mới. \n",
        "- Với các cột không phải dạng số và không có thứ tự:\n",
        "    - Ta sẽ điền giá trị thiếu bằng giá trị mode (giá trị xuất hiện nhiều nhất) của cột <font color=gray>(gợi ý: dùng `SimpleImputer` trong Sklearn)</font>. Với *tất cả* các cột không có dạng số và không có thứ tự, ta đều cần tính mode, vì ta không biết được cột nào sẽ bị thiếu giá trị khi dự đoán với các véc-tơ input mới.\n",
        "    - Sau đó, ta sẽ chuyển sang dạng số bằng phương pháp mã hóa one-hot <font color=gray>(gợi ý: dùng `OneHotEncoder` trong Sklearn, để ý tham số `handle_unknown` vì khi dự đoán với các véc-tơ input mới ...)</font>.\n",
        "\n",
        "- Cuối cùng, khi tất cả các cột đã được điền giá trị thiếu và đã có dạng số, ta sẽ tiến hành chuẩn hóa khoảng giá trị bằng cách trừ đi mean và chia cho std của cột để giúp cho các thuật toán tối ưu Gradient Descent, LBFGS, ... hội tụ nhanh hơn <font color=gray>(gợi ý: dùng `StandardScaler` trong Sklearn)</font>.\n",
        "\n",
        "Nhiệm vụ của bạn là tạo ra một pipeline, đặt tên là `preprocess_pipeline`, bao gồm: bước thêm cột `cp_reduced` và bỏ các cột (đã cài ở class `ColAdderDropper`, bạn để `num_top_cp_values=3`), và tất cả các bước ở đây (bạn lưu ý làm đúng theo thứ tự của các bước và các cột mà mình đã mô tả). Sau khi tạo ra được pipeline này rồi, bạn sẽ gọi phương thức `fit_transform` với đầu vào là `train_X_df` để tính các giá trị từ tập huấn luyện (ví dụ, `top_cp_values_` ở bước thêm và xóa cột, mean và mode ở bước xử lý giá trị thiếu, mean và std ở bước chuẩn hóa) và đồng thời tiền xử lý `train_X_df`; kết quả trả về sẽ là `train_X_df` sau khi đã tiền xử lý, là một mảng Numpy, bạn đặt tên là `preprocessed_train_X`. <font color=gray>(Gợi ý: bạn đọc cách sử dụng pipeline ở [document](https://scikit-learn.org/stable/modules/compose.html#transforming-target-in-regression), có thể bỏ qua mục 6.1.2; bạn sẽ cần dùng `Pipeline`/`make_pipeline` và `ColumnTransformer`/`make_column_transformer`.)</font>"
      ]
    },
    {
      "cell_type": "code",
      "execution_count": 24,
      "metadata": {
        "Collapsed": "false",
        "deletable": false,
        "id": "As9Dp0wZlVG-",
        "nbgrader": {
          "cell_type": "code",
          "checksum": "e7a1d4ae5e4fa50b60b4998de6be96a1",
          "grade": false,
          "grade_id": "cell-ae75d7dfa7256c7f",
          "locked": false,
          "schema_version": 3,
          "solution": true
        }
      },
      "outputs": [],
      "source": [
        "# Các bạn tự xác định xem cột nào là numerical hoặc categorical \n",
        "# (Gợi ý: xem xét các cột có số lượng giá trị khác nhau <15 )\n",
        "# YOUR CODE HERE\n",
        "categorical_cols = []\n",
        "numerics_cols = []\n",
        "\n",
        "cols_name = fewer_cols_train_X_df.columns.values.tolist()\n",
        "for col in cols_name:\n",
        "    if fewer_cols_train_X_df[col].nunique() < 15:\n",
        "        categorical_cols.append(col)\n",
        "    else:\n",
        "        numerics_cols.append(col)\n",
        "\n",
        "numeric_transformer = Pipeline(\n",
        "    steps=[\n",
        "           (\"imputer_mean\", SimpleImputer(strategy=\"mean\")) # Mean\n",
        "           ]\n",
        ")\n",
        "categorical_transformer = Pipeline(\n",
        "    steps=[\n",
        "           (\"imputer_mode\", SimpleImputer(strategy=\"most_frequent\")), # Mode\n",
        "           (\"onehot\", OneHotEncoder(handle_unknown=\"ignore\")) # Onehot\n",
        "           ]\n",
        ")\n",
        "\n",
        "preprocessor_transform = ColumnTransformer(\n",
        "    transformers=[\n",
        "        (\"numeric\", numeric_transformer, numerics_cols),\n",
        "        (\"categorical\", categorical_transformer, categorical_cols),\n",
        "    ]\n",
        ")\n",
        "\n",
        "#preprocess_pipeline\n",
        "preprocess_pipeline = Pipeline(\n",
        "    steps=[\n",
        "           (\"adddrop\", ColAdderDropper(num_top_cp_values = 3)),\n",
        "           (\"transform\", preprocessor_transform), \n",
        "           (\"scaler\", StandardScaler())\n",
        "           ]\n",
        ")\n",
        "\n",
        "# fit_transform\n",
        "preprocessed_train_X = preprocess_pipeline.fit_transform(train_X_df)"
      ]
    },
    {
      "cell_type": "code",
      "execution_count": 25,
      "metadata": {
        "Collapsed": "false",
        "colab": {
          "base_uri": "https://localhost:8080/",
          "height": 260
        },
        "deletable": false,
        "editable": false,
        "id": "sJKDf9IqlVG_",
        "nbgrader": {
          "cell_type": "code",
          "checksum": "34cd22a6a9f34822f20f8d3c89115986",
          "grade": true,
          "grade_id": "cell-1cf65ae2cdb14c0c",
          "locked": true,
          "points": 2.5,
          "schema_version": 3,
          "solution": false
        },
        "outputId": "77b6ea41-6f08-45a1-d403-d43cc1d4726a"
      },
      "outputs": [
        {
          "output_type": "execute_result",
          "data": {
            "text/html": [
              "<style>#sk-ebd5a652-8c37-4632-9250-d3d9e24f81a0 {color: black;background-color: white;}#sk-ebd5a652-8c37-4632-9250-d3d9e24f81a0 pre{padding: 0;}#sk-ebd5a652-8c37-4632-9250-d3d9e24f81a0 div.sk-toggleable {background-color: white;}#sk-ebd5a652-8c37-4632-9250-d3d9e24f81a0 label.sk-toggleable__label {cursor: pointer;display: block;width: 100%;margin-bottom: 0;padding: 0.3em;box-sizing: border-box;text-align: center;}#sk-ebd5a652-8c37-4632-9250-d3d9e24f81a0 div.sk-toggleable__content {max-height: 0;max-width: 0;overflow: hidden;text-align: left;background-color: #f0f8ff;}#sk-ebd5a652-8c37-4632-9250-d3d9e24f81a0 div.sk-toggleable__content pre {margin: 0.2em;color: black;border-radius: 0.25em;background-color: #f0f8ff;}#sk-ebd5a652-8c37-4632-9250-d3d9e24f81a0 input.sk-toggleable__control:checked~div.sk-toggleable__content {max-height: 200px;max-width: 100%;overflow: auto;}#sk-ebd5a652-8c37-4632-9250-d3d9e24f81a0 div.sk-estimator input.sk-toggleable__control:checked~label.sk-toggleable__label {background-color: #d4ebff;}#sk-ebd5a652-8c37-4632-9250-d3d9e24f81a0 div.sk-label input.sk-toggleable__control:checked~label.sk-toggleable__label {background-color: #d4ebff;}#sk-ebd5a652-8c37-4632-9250-d3d9e24f81a0 input.sk-hidden--visually {border: 0;clip: rect(1px 1px 1px 1px);clip: rect(1px, 1px, 1px, 1px);height: 1px;margin: -1px;overflow: hidden;padding: 0;position: absolute;width: 1px;}#sk-ebd5a652-8c37-4632-9250-d3d9e24f81a0 div.sk-estimator {font-family: monospace;background-color: #f0f8ff;border: 1px dotted black;border-radius: 0.25em;box-sizing: border-box;margin-bottom: 0.5em;}#sk-ebd5a652-8c37-4632-9250-d3d9e24f81a0 div.sk-estimator:hover {background-color: #d4ebff;}#sk-ebd5a652-8c37-4632-9250-d3d9e24f81a0 div.sk-parallel-item::after {content: \"\";width: 100%;border-bottom: 1px solid gray;flex-grow: 1;}#sk-ebd5a652-8c37-4632-9250-d3d9e24f81a0 div.sk-label:hover label.sk-toggleable__label {background-color: #d4ebff;}#sk-ebd5a652-8c37-4632-9250-d3d9e24f81a0 div.sk-serial::before {content: \"\";position: absolute;border-left: 1px solid gray;box-sizing: border-box;top: 2em;bottom: 0;left: 50%;}#sk-ebd5a652-8c37-4632-9250-d3d9e24f81a0 div.sk-serial {display: flex;flex-direction: column;align-items: center;background-color: white;padding-right: 0.2em;padding-left: 0.2em;}#sk-ebd5a652-8c37-4632-9250-d3d9e24f81a0 div.sk-item {z-index: 1;}#sk-ebd5a652-8c37-4632-9250-d3d9e24f81a0 div.sk-parallel {display: flex;align-items: stretch;justify-content: center;background-color: white;}#sk-ebd5a652-8c37-4632-9250-d3d9e24f81a0 div.sk-parallel::before {content: \"\";position: absolute;border-left: 1px solid gray;box-sizing: border-box;top: 2em;bottom: 0;left: 50%;}#sk-ebd5a652-8c37-4632-9250-d3d9e24f81a0 div.sk-parallel-item {display: flex;flex-direction: column;position: relative;background-color: white;}#sk-ebd5a652-8c37-4632-9250-d3d9e24f81a0 div.sk-parallel-item:first-child::after {align-self: flex-end;width: 50%;}#sk-ebd5a652-8c37-4632-9250-d3d9e24f81a0 div.sk-parallel-item:last-child::after {align-self: flex-start;width: 50%;}#sk-ebd5a652-8c37-4632-9250-d3d9e24f81a0 div.sk-parallel-item:only-child::after {width: 0;}#sk-ebd5a652-8c37-4632-9250-d3d9e24f81a0 div.sk-dashed-wrapped {border: 1px dashed gray;margin: 0 0.4em 0.5em 0.4em;box-sizing: border-box;padding-bottom: 0.4em;background-color: white;position: relative;}#sk-ebd5a652-8c37-4632-9250-d3d9e24f81a0 div.sk-label label {font-family: monospace;font-weight: bold;background-color: white;display: inline-block;line-height: 1.2em;}#sk-ebd5a652-8c37-4632-9250-d3d9e24f81a0 div.sk-label-container {position: relative;z-index: 2;text-align: center;}#sk-ebd5a652-8c37-4632-9250-d3d9e24f81a0 div.sk-container {display: inline-block;position: relative;}</style><div id=\"sk-ebd5a652-8c37-4632-9250-d3d9e24f81a0\" class\"sk-top-container\"><div class=\"sk-container\"><div class=\"sk-item sk-dashed-wrapped\"><div class=\"sk-label-container\"><div class=\"sk-label sk-toggleable\"><input class=\"sk-toggleable__control sk-hidden--visually\" id=\"b8e522fb-8cb3-4067-b5be-9c317f119fb0\" type=\"checkbox\" ><label class=\"sk-toggleable__label\" for=\"b8e522fb-8cb3-4067-b5be-9c317f119fb0\">Pipeline</label><div class=\"sk-toggleable__content\"><pre>Pipeline(steps=[('adddrop', ColAdderDropper()),\n",
              "                ('transform',\n",
              "                 ColumnTransformer(transformers=[('numeric',\n",
              "                                                  Pipeline(steps=[('imputer_mean',\n",
              "                                                                   SimpleImputer())]),\n",
              "                                                  ['age', 'chol', 'oldpeak',\n",
              "                                                   'trestbps']),\n",
              "                                                 ('categorical',\n",
              "                                                  Pipeline(steps=[('imputer_mode',\n",
              "                                                                   SimpleImputer(strategy='most_frequent')),\n",
              "                                                                  ('onehot',\n",
              "                                                                   OneHotEncoder(handle_unknown='ignore'))]),\n",
              "                                                  ['ca', 'cp_reduced', 'exang',\n",
              "                                                   'fbs', 'restecg', 'sex',\n",
              "                                                   'slope', 'thal'])])),\n",
              "                ('scaler', StandardScaler())])</pre></div></div></div><div class=\"sk-serial\"><div class=\"sk-item\"><div class=\"sk-estimator sk-toggleable\"><input class=\"sk-toggleable__control sk-hidden--visually\" id=\"346d4c09-d122-49f5-b6b2-97952dee3725\" type=\"checkbox\" ><label class=\"sk-toggleable__label\" for=\"346d4c09-d122-49f5-b6b2-97952dee3725\">ColAdderDropper</label><div class=\"sk-toggleable__content\"><pre>ColAdderDropper()</pre></div></div></div><div class=\"sk-item sk-dashed-wrapped\"><div class=\"sk-label-container\"><div class=\"sk-label sk-toggleable\"><input class=\"sk-toggleable__control sk-hidden--visually\" id=\"4007a93c-208e-4618-bc78-a9679d242697\" type=\"checkbox\" ><label class=\"sk-toggleable__label\" for=\"4007a93c-208e-4618-bc78-a9679d242697\">transform: ColumnTransformer</label><div class=\"sk-toggleable__content\"><pre>ColumnTransformer(transformers=[('numeric',\n",
              "                                 Pipeline(steps=[('imputer_mean',\n",
              "                                                  SimpleImputer())]),\n",
              "                                 ['age', 'chol', 'oldpeak', 'trestbps']),\n",
              "                                ('categorical',\n",
              "                                 Pipeline(steps=[('imputer_mode',\n",
              "                                                  SimpleImputer(strategy='most_frequent')),\n",
              "                                                 ('onehot',\n",
              "                                                  OneHotEncoder(handle_unknown='ignore'))]),\n",
              "                                 ['ca', 'cp_reduced', 'exang', 'fbs', 'restecg',\n",
              "                                  'sex', 'slope', 'thal'])])</pre></div></div></div><div class=\"sk-parallel\"><div class=\"sk-parallel-item\"><div class=\"sk-item\"><div class=\"sk-label-container\"><div class=\"sk-label sk-toggleable\"><input class=\"sk-toggleable__control sk-hidden--visually\" id=\"a9d735e2-cf20-46ce-aad0-80eaa8e01e64\" type=\"checkbox\" ><label class=\"sk-toggleable__label\" for=\"a9d735e2-cf20-46ce-aad0-80eaa8e01e64\">numeric</label><div class=\"sk-toggleable__content\"><pre>['age', 'chol', 'oldpeak', 'trestbps']</pre></div></div></div><div class=\"sk-serial\"><div class=\"sk-item\"><div class=\"sk-serial\"><div class=\"sk-item\"><div class=\"sk-estimator sk-toggleable\"><input class=\"sk-toggleable__control sk-hidden--visually\" id=\"26e50f84-04f4-4690-9359-9b9286791bcc\" type=\"checkbox\" ><label class=\"sk-toggleable__label\" for=\"26e50f84-04f4-4690-9359-9b9286791bcc\">SimpleImputer</label><div class=\"sk-toggleable__content\"><pre>SimpleImputer()</pre></div></div></div></div></div></div></div></div><div class=\"sk-parallel-item\"><div class=\"sk-item\"><div class=\"sk-label-container\"><div class=\"sk-label sk-toggleable\"><input class=\"sk-toggleable__control sk-hidden--visually\" id=\"9e26dc41-8b1b-4c4d-af46-45d251f9d821\" type=\"checkbox\" ><label class=\"sk-toggleable__label\" for=\"9e26dc41-8b1b-4c4d-af46-45d251f9d821\">categorical</label><div class=\"sk-toggleable__content\"><pre>['ca', 'cp_reduced', 'exang', 'fbs', 'restecg', 'sex', 'slope', 'thal']</pre></div></div></div><div class=\"sk-serial\"><div class=\"sk-item\"><div class=\"sk-serial\"><div class=\"sk-item\"><div class=\"sk-estimator sk-toggleable\"><input class=\"sk-toggleable__control sk-hidden--visually\" id=\"534651ea-fba0-48dc-b2e1-d4424c2df842\" type=\"checkbox\" ><label class=\"sk-toggleable__label\" for=\"534651ea-fba0-48dc-b2e1-d4424c2df842\">SimpleImputer</label><div class=\"sk-toggleable__content\"><pre>SimpleImputer(strategy='most_frequent')</pre></div></div></div><div class=\"sk-item\"><div class=\"sk-estimator sk-toggleable\"><input class=\"sk-toggleable__control sk-hidden--visually\" id=\"b689d764-157c-4a30-98ba-a6db0bb18965\" type=\"checkbox\" ><label class=\"sk-toggleable__label\" for=\"b689d764-157c-4a30-98ba-a6db0bb18965\">OneHotEncoder</label><div class=\"sk-toggleable__content\"><pre>OneHotEncoder(handle_unknown='ignore')</pre></div></div></div></div></div></div></div></div></div></div><div class=\"sk-item\"><div class=\"sk-estimator sk-toggleable\"><input class=\"sk-toggleable__control sk-hidden--visually\" id=\"352b89dc-6906-40d2-97b3-ba1187751d9b\" type=\"checkbox\" ><label class=\"sk-toggleable__label\" for=\"352b89dc-6906-40d2-97b3-ba1187751d9b\">StandardScaler</label><div class=\"sk-toggleable__content\"><pre>StandardScaler()</pre></div></div></div></div></div></div></div>"
            ],
            "text/plain": [
              "Pipeline(steps=[('adddrop', ColAdderDropper()),\n",
              "                ('transform',\n",
              "                 ColumnTransformer(transformers=[('numeric',\n",
              "                                                  Pipeline(steps=[('imputer_mean',\n",
              "                                                                   SimpleImputer())]),\n",
              "                                                  ['age', 'chol', 'oldpeak',\n",
              "                                                   'trestbps']),\n",
              "                                                 ('categorical',\n",
              "                                                  Pipeline(steps=[('imputer_mode',\n",
              "                                                                   SimpleImputer(strategy='most_frequent')),\n",
              "                                                                  ('onehot',\n",
              "                                                                   OneHotEncoder(handle_unknown='ignore'))]),\n",
              "                                                  ['ca', 'cp_reduced', 'exang',\n",
              "                                                   'fbs', 'restecg', 'sex',\n",
              "                                                   'slope', 'thal'])])),\n",
              "                ('scaler', StandardScaler())])"
            ]
          },
          "metadata": {},
          "execution_count": 25
        }
      ],
      "source": [
        "# TEST\n",
        "assert preprocessed_train_X.shape == (193, 29)\n",
        "row0 = [1.026, 1.924, -0.953, 0.495, 0.832, -0.503, -0.386, -0.269, -0.102, -0.29, -0.974, -0.421, 1.584, 0.672, -0.672,\n",
        "        0.403, -0.403, -0.935, 0.974, -0.145, -0.647, 0.647, -0.234, -0.789, 0.878, -0.072, -0.269, 0.915, -0.789]\n",
        "assert list(preprocessed_train_X[0].round(3)) == row0\n",
        "preprocess_pipeline"
      ]
    },
    {
      "cell_type": "markdown",
      "metadata": {
        "Collapsed": "false",
        "id": "1b07tI86lVG_"
      },
      "source": [
        "## Tiền xử lý (tập validation) (1.5đ)"
      ]
    },
    {
      "cell_type": "markdown",
      "metadata": {
        "Collapsed": "false",
        "id": "1Jk5vD1MlVG_"
      },
      "source": [
        "Một khi đã có `preprocess_pipeline` với các giá trị thống kê đã được tính từ tập huấn luyện, ta có thể dễ dàng dùng phương thức `transform` để tiền xử lý cho các véc-tơ input mới trong tập validation và tập kiểm tra. Dưới đây, bạn sẽ làm như vậy để tiền xử lý cho `val_X_df` và lưu kết quả vào `preprocessed_val_X`(chỉ cần duy nhất 1 dòng code thôi nhé)"
      ]
    },
    {
      "cell_type": "code",
      "execution_count": 26,
      "metadata": {
        "Collapsed": "false",
        "deletable": false,
        "id": "3VVrWVhPlVG_",
        "nbgrader": {
          "cell_type": "code",
          "checksum": "986f547abfe534258eb2c41f692c1084",
          "grade": false,
          "grade_id": "cell-5b00ff693785976e",
          "locked": false,
          "schema_version": 3,
          "solution": true
        }
      },
      "outputs": [],
      "source": [
        "# YOUR CODE HERE\n",
        "preprocessed_val_X = preprocess_pipeline.transform(val_X_df)"
      ]
    },
    {
      "cell_type": "code",
      "execution_count": 27,
      "metadata": {
        "Collapsed": "false",
        "deletable": false,
        "editable": false,
        "id": "un38UlKolVG_",
        "nbgrader": {
          "cell_type": "code",
          "checksum": "11d78d3e447c4f152ba6106fa18ad60f",
          "grade": true,
          "grade_id": "cell-b9c978682fecdf3c",
          "locked": true,
          "points": 0.5,
          "schema_version": 3,
          "solution": false
        }
      },
      "outputs": [],
      "source": [
        "# Test\n",
        "assert preprocessed_val_X.shape == (49, 29)\n",
        "row0 = [-1.534, -0.797, -0.953, -0.72, 0.832, -0.503, -0.386, -0.269, -0.102, -0.29, -0.974, -0.421, 1.584, 0.672, -0.672,\n",
        "        0.403, -0.403, -0.935, 0.974, -0.145, 1.545, -1.545, -0.234, 1.268, -1.139, -0.072, -0.269, 0.915, -0.789]\n",
        "assert list(preprocessed_val_X[0].round(3)) == row0\n"
      ]
    },
    {
      "cell_type": "markdown",
      "metadata": {
        "Collapsed": "false",
        "id": "w0TV4YkvlVHA"
      },
      "source": [
        "Giải thích tại sao không nên làm 2 cách sau:\n",
        "- Tiền xử lý tập validation bằng các giá trị thống kê (mean, mode, ...) được tính từ tập validation\n",
        "- Hoặc tiền xử lý tất cả dữ liệu rồi mới tách tập validation"
      ]
    },
    {
      "cell_type": "markdown",
      "metadata": {
        "Collapsed": "false",
        "deletable": false,
        "id": "rda_-rndlVHA",
        "nbgrader": {
          "cell_type": "markdown",
          "checksum": "2a1567a9361126ee5dd2d6371498efda",
          "grade": true,
          "grade_id": "cell-c9f9e4ac63684628",
          "locked": false,
          "points": 1,
          "schema_version": 3,
          "solution": true
        }
      },
      "source": [
        "YOUR ANSWER HERE\n",
        "\n",
        "* Nếu tiền xử lý tập validation bằng chính giá trị thống kê của validation, sử dụng hiểu biết được suy ra từ validation, thì mất đi tính khách quan.\n",
        "* Tương tự, việc tiền xử lý tất cả dữ liệu rồi mới tách tập validation cũng sẽ sử dụng hiểu biết suy ra (một phần) từ validation, cũng mất đi tính khách quan."
      ]
    },
    {
      "cell_type": "markdown",
      "metadata": {
        "Collapsed": "false",
        "id": "esCTOTmclVHA"
      },
      "source": [
        "---"
      ]
    },
    {
      "cell_type": "markdown",
      "metadata": {
        "Collapsed": "false",
        "id": "a6BCMtZElVHA"
      },
      "source": [
        "## Tiền xử lý + mô hình hóa"
      ]
    },
    {
      "cell_type": "markdown",
      "metadata": {
        "id": "HfvgdyEilVHB"
      },
      "source": [
        "### Tìm mô hình tốt nhất (4đ)"
      ]
    },
    {
      "cell_type": "markdown",
      "metadata": {
        "Collapsed": "false",
        "id": "ni8OJ8h0lVHB"
      },
      "source": [
        "Ta sẽ sử dụng mô hình MLP để phân lớp. Bạn sẽ tạo ra một pipeline từ đầu đến cuối bao gồm: các bước tiền xử lý ở trên + MLP (với các siêu tham số `hidden_layer_sizes=(50), activation='relu', solver='lbfgs', random_state=0, max_iter=10000`). Bạn đặt tên cho pipeline này là `full_pipeline`. Việc tạo ra một pipeline từ đầu đến cuối như này có các lợi ích sau:\n",
        "- Giúp đơn giản hóa: \n",
        "    - Để huấn luyện từ đầu tới cuối, chỉ cần gọi phương thức `fit` của pipeline này trên tập huấn luyện dạng thô. Lúc này, các \"transformer\" ở các bước tiền xử lý sẽ gọi `fit_transform`, còn \"classifier\" ở cuối sẽ gọi `fit`.\n",
        "    - Với các véc-tơ input ở dạng thô, để dự đoán thì chỉ cần gọi phương thức `predict` của pipeline. Lúc này, các \"transformer\" ở các bước tiền xử lý sẽ gọi `transform`, còn \"classifier\" ở cuối sẽ gọi `predict`.\n",
        "- Giúp tránh tiền xử lý tập validation/kiểm-tra sai cách (như đã nói ở mục \"Tiền xử lý (tập validation)\" ở trên). Để làm sai cũng khó à nha ;-).\n",
        "- Giúp dễ dàng thử nghiệm đồng thời các giá trị của các siêu tham số ở các bước trong pipeline (sẽ làm ở ngay dưới).\n",
        "\n",
        "Sau khi đã có được pipeline từ đầu đến cuối này, bạn sẽ thử nghiệm:\n",
        "- Siêu tham số `alpha` (hệ số L2 regularization) của `MLPClassifier` với 5 giá trị khác nhau: từ 0 đến 100.\n",
        "- Siêu tham số `num_top_cp_values` của `ColAdderDropper` (ở bước tiền xử lý) với 5 giá trị khác nhau: 1, 3, 5, 7, 9.\n",
        "\n",
        "Để gán lại giá trị `alpha` và `num_top_cp_values` cho `full_pipeline`, bạn sẽ dùng phương thức `set_params`: \n",
        "\n",
        "`full_pipeline.set_params(mlpclassifier__alpha=...)`\n",
        "\n",
        "Nếu bạn tạo pipeline bằng `make_pipeline` thì tên của các bước sẽ được tự động lấy là tên của các class và được viết thường như 2 tên ở trên. Còn nếu bạn dùng `Pipeline` và tự đặt tên cho các bước thì bạn dùng tên của bạn trong phương thức `set_params`.  \n",
        "\n",
        "Như vậy, với mỗi mô hình bạn sẽ: huấn luyện trên tập huấn luyện, tính độ đo ở đây là độ chính xác (tỉ lệ dự đoán đúng) trên tập huấn luyện và tập validation rồi `append` độ đo vào 2 list tương ứng là `train_accs` và `val_accs` (để dễ nhìn, bạn tính độ chính xác theo đơn vị %, nghĩa là có giá trị từ 0-100 chứ không phải từ 0-1). Bạn lưu lại độ chính xác cao nhất trên tập validation và giá trị `alpha` và `num_top_cp_values` tương ứng lần lượt vào biến `best_val_acc`, `best_alpha`, `best_num_top_cp_values`."
      ]
    },
    {
      "cell_type": "code",
      "execution_count": 28,
      "metadata": {
        "Collapsed": "false",
        "deletable": false,
        "id": "8axdeNeslVHB",
        "nbgrader": {
          "cell_type": "code",
          "checksum": "0662cf28420d8aab58040eaa80f76ed2",
          "grade": false,
          "grade_id": "cell-fdd12a79fb590313",
          "locked": false,
          "schema_version": 3,
          "solution": true,
          "task": false
        },
        "scrolled": true,
        "tags": []
      },
      "outputs": [],
      "source": [
        "# Tạo full_pipeline\n",
        "# YOUR CODE HERE\n",
        "mlp_classifier = MLPClassifier(\n",
        "    hidden_layer_sizes=(50), \n",
        "    activation='relu', \n",
        "    solver='lbfgs', \n",
        "    random_state=0, \n",
        "    max_iter=10000\n",
        ")\n",
        "\n",
        "full_pipeline = Pipeline(\n",
        "    steps=[\n",
        "           (\"preprocesspipeline\", preprocess_pipeline),\n",
        "           (\"mlpclassifier\", mlp_classifier)\n",
        "           ]\n",
        ")\n",
        "\n",
        "# Thử nghiệm với các giá trị khác nhau của các siêu tham số (toàn bộ quá trình có thể mất từ 2-3 phút)\n",
        "# và chọn ra các giá trị tốt nhất\n",
        "train_accs = []\n",
        "val_accs = []\n",
        "alphas = [0,0.01,0.1, 1, 10, 100]\n",
        "num_top_cp_values_s = [1, 3, 5, 7,9]\n",
        "best_val_acc = 0\n",
        "best_alpha = None\n",
        "best_num_top_cp_values = None\n",
        "for alpha in alphas:\n",
        "    for num_top_cp_values in num_top_cp_values_s:\n",
        "        # YOUR CODE HERE\n",
        "        full_pipeline.set_params(mlpclassifier__alpha = alpha)\n",
        "        full_pipeline.set_params(preprocesspipeline__adddrop__num_top_cp_values = num_top_cp_values)\n",
        "\n",
        "        full_pipeline.fit(train_X_df, train_y_sr)\n",
        "\n",
        "        # print(\"=\" * 60)\n",
        "        # print(f\"alpha = {alpha}, num_top_cp_values = {num_top_cp_values}\")\n",
        "        # print(\"Train acc = %.3f\" % full_pipeline.score(train_X_df, train_y_sr), end = \" - \")\n",
        "        # print(\"Val acc = %.3f\" % full_pipeline.score(val_X_df, val_y_sr))\n",
        "\n",
        "        train_acc = full_pipeline.score(train_X_df, train_y_sr) * 100\n",
        "        val_acc = full_pipeline.score(val_X_df, val_y_sr) * 100\n",
        "\n",
        "        train_accs.append(train_acc)\n",
        "        val_accs.append(val_acc)\n",
        "\n",
        "        if val_acc > best_val_acc:\n",
        "            best_val_acc = val_acc\n",
        "            best_alpha = alpha\n",
        "            best_num_top_cp_values = num_top_cp_values"
      ]
    },
    {
      "cell_type": "code",
      "execution_count": 29,
      "metadata": {
        "colab": {
          "base_uri": "https://localhost:8080/",
          "height": 319
        },
        "id": "BAzogpDulVHC",
        "outputId": "d0cf01ac-cdf6-4e27-9ee8-12e766e86c61"
      },
      "outputs": [
        {
          "output_type": "execute_result",
          "data": {
            "text/html": [
              "<style>#sk-ee568c6f-4854-4233-81e9-cc0a7f92fd15 {color: black;background-color: white;}#sk-ee568c6f-4854-4233-81e9-cc0a7f92fd15 pre{padding: 0;}#sk-ee568c6f-4854-4233-81e9-cc0a7f92fd15 div.sk-toggleable {background-color: white;}#sk-ee568c6f-4854-4233-81e9-cc0a7f92fd15 label.sk-toggleable__label {cursor: pointer;display: block;width: 100%;margin-bottom: 0;padding: 0.3em;box-sizing: border-box;text-align: center;}#sk-ee568c6f-4854-4233-81e9-cc0a7f92fd15 div.sk-toggleable__content {max-height: 0;max-width: 0;overflow: hidden;text-align: left;background-color: #f0f8ff;}#sk-ee568c6f-4854-4233-81e9-cc0a7f92fd15 div.sk-toggleable__content pre {margin: 0.2em;color: black;border-radius: 0.25em;background-color: #f0f8ff;}#sk-ee568c6f-4854-4233-81e9-cc0a7f92fd15 input.sk-toggleable__control:checked~div.sk-toggleable__content {max-height: 200px;max-width: 100%;overflow: auto;}#sk-ee568c6f-4854-4233-81e9-cc0a7f92fd15 div.sk-estimator input.sk-toggleable__control:checked~label.sk-toggleable__label {background-color: #d4ebff;}#sk-ee568c6f-4854-4233-81e9-cc0a7f92fd15 div.sk-label input.sk-toggleable__control:checked~label.sk-toggleable__label {background-color: #d4ebff;}#sk-ee568c6f-4854-4233-81e9-cc0a7f92fd15 input.sk-hidden--visually {border: 0;clip: rect(1px 1px 1px 1px);clip: rect(1px, 1px, 1px, 1px);height: 1px;margin: -1px;overflow: hidden;padding: 0;position: absolute;width: 1px;}#sk-ee568c6f-4854-4233-81e9-cc0a7f92fd15 div.sk-estimator {font-family: monospace;background-color: #f0f8ff;border: 1px dotted black;border-radius: 0.25em;box-sizing: border-box;margin-bottom: 0.5em;}#sk-ee568c6f-4854-4233-81e9-cc0a7f92fd15 div.sk-estimator:hover {background-color: #d4ebff;}#sk-ee568c6f-4854-4233-81e9-cc0a7f92fd15 div.sk-parallel-item::after {content: \"\";width: 100%;border-bottom: 1px solid gray;flex-grow: 1;}#sk-ee568c6f-4854-4233-81e9-cc0a7f92fd15 div.sk-label:hover label.sk-toggleable__label {background-color: #d4ebff;}#sk-ee568c6f-4854-4233-81e9-cc0a7f92fd15 div.sk-serial::before {content: \"\";position: absolute;border-left: 1px solid gray;box-sizing: border-box;top: 2em;bottom: 0;left: 50%;}#sk-ee568c6f-4854-4233-81e9-cc0a7f92fd15 div.sk-serial {display: flex;flex-direction: column;align-items: center;background-color: white;padding-right: 0.2em;padding-left: 0.2em;}#sk-ee568c6f-4854-4233-81e9-cc0a7f92fd15 div.sk-item {z-index: 1;}#sk-ee568c6f-4854-4233-81e9-cc0a7f92fd15 div.sk-parallel {display: flex;align-items: stretch;justify-content: center;background-color: white;}#sk-ee568c6f-4854-4233-81e9-cc0a7f92fd15 div.sk-parallel::before {content: \"\";position: absolute;border-left: 1px solid gray;box-sizing: border-box;top: 2em;bottom: 0;left: 50%;}#sk-ee568c6f-4854-4233-81e9-cc0a7f92fd15 div.sk-parallel-item {display: flex;flex-direction: column;position: relative;background-color: white;}#sk-ee568c6f-4854-4233-81e9-cc0a7f92fd15 div.sk-parallel-item:first-child::after {align-self: flex-end;width: 50%;}#sk-ee568c6f-4854-4233-81e9-cc0a7f92fd15 div.sk-parallel-item:last-child::after {align-self: flex-start;width: 50%;}#sk-ee568c6f-4854-4233-81e9-cc0a7f92fd15 div.sk-parallel-item:only-child::after {width: 0;}#sk-ee568c6f-4854-4233-81e9-cc0a7f92fd15 div.sk-dashed-wrapped {border: 1px dashed gray;margin: 0 0.4em 0.5em 0.4em;box-sizing: border-box;padding-bottom: 0.4em;background-color: white;position: relative;}#sk-ee568c6f-4854-4233-81e9-cc0a7f92fd15 div.sk-label label {font-family: monospace;font-weight: bold;background-color: white;display: inline-block;line-height: 1.2em;}#sk-ee568c6f-4854-4233-81e9-cc0a7f92fd15 div.sk-label-container {position: relative;z-index: 2;text-align: center;}#sk-ee568c6f-4854-4233-81e9-cc0a7f92fd15 div.sk-container {display: inline-block;position: relative;}</style><div id=\"sk-ee568c6f-4854-4233-81e9-cc0a7f92fd15\" class\"sk-top-container\"><div class=\"sk-container\"><div class=\"sk-item sk-dashed-wrapped\"><div class=\"sk-label-container\"><div class=\"sk-label sk-toggleable\"><input class=\"sk-toggleable__control sk-hidden--visually\" id=\"ce6d911d-eab2-44a4-8393-e8db8e4e507c\" type=\"checkbox\" ><label class=\"sk-toggleable__label\" for=\"ce6d911d-eab2-44a4-8393-e8db8e4e507c\">Pipeline</label><div class=\"sk-toggleable__content\"><pre>Pipeline(steps=[('preprocesspipeline',\n",
              "                 Pipeline(steps=[('adddrop',\n",
              "                                  ColAdderDropper(num_top_cp_values=9)),\n",
              "                                 ('transform',\n",
              "                                  ColumnTransformer(transformers=[('numeric',\n",
              "                                                                   Pipeline(steps=[('imputer_mean',\n",
              "                                                                                    SimpleImputer())]),\n",
              "                                                                   ['age',\n",
              "                                                                    'chol',\n",
              "                                                                    'oldpeak',\n",
              "                                                                    'trestbps']),\n",
              "                                                                  ('categorical',\n",
              "                                                                   Pipeline(steps=[('imputer_mode',\n",
              "                                                                                    SimpleImputer(strategy='most_frequent')),\n",
              "                                                                                   ('onehot',\n",
              "                                                                                    OneHotEncoder(handle_unknown='ignore'))]),\n",
              "                                                                   ['ca',\n",
              "                                                                    'cp_reduced',\n",
              "                                                                    'exang',\n",
              "                                                                    'fbs',\n",
              "                                                                    'restecg',\n",
              "                                                                    'sex',\n",
              "                                                                    'slope',\n",
              "                                                                    'thal'])])),\n",
              "                                 ('scaler', StandardScaler())])),\n",
              "                ('mlpclassifier',\n",
              "                 MLPClassifier(alpha=100, hidden_layer_sizes=50, max_iter=10000,\n",
              "                               random_state=0, solver='lbfgs'))])</pre></div></div></div><div class=\"sk-serial\"><div class=\"sk-item\"><div class=\"sk-label-container\"><div class=\"sk-label sk-toggleable\"><input class=\"sk-toggleable__control sk-hidden--visually\" id=\"21b37c1c-2bb3-4f00-a6d4-e8b2014d784b\" type=\"checkbox\" ><label class=\"sk-toggleable__label\" for=\"21b37c1c-2bb3-4f00-a6d4-e8b2014d784b\">preprocesspipeline: Pipeline</label><div class=\"sk-toggleable__content\"><pre>Pipeline(steps=[('adddrop', ColAdderDropper(num_top_cp_values=9)),\n",
              "                ('transform',\n",
              "                 ColumnTransformer(transformers=[('numeric',\n",
              "                                                  Pipeline(steps=[('imputer_mean',\n",
              "                                                                   SimpleImputer())]),\n",
              "                                                  ['age', 'chol', 'oldpeak',\n",
              "                                                   'trestbps']),\n",
              "                                                 ('categorical',\n",
              "                                                  Pipeline(steps=[('imputer_mode',\n",
              "                                                                   SimpleImputer(strategy='most_frequent')),\n",
              "                                                                  ('onehot',\n",
              "                                                                   OneHotEncoder(handle_unknown='ignore'))]),\n",
              "                                                  ['ca', 'cp_reduced', 'exang',\n",
              "                                                   'fbs', 'restecg', 'sex',\n",
              "                                                   'slope', 'thal'])])),\n",
              "                ('scaler', StandardScaler())])</pre></div></div></div><div class=\"sk-serial\"><div class=\"sk-item\"><div class=\"sk-estimator sk-toggleable\"><input class=\"sk-toggleable__control sk-hidden--visually\" id=\"f42b5203-b565-4389-adde-b610cb1b7bdc\" type=\"checkbox\" ><label class=\"sk-toggleable__label\" for=\"f42b5203-b565-4389-adde-b610cb1b7bdc\">ColAdderDropper</label><div class=\"sk-toggleable__content\"><pre>ColAdderDropper(num_top_cp_values=9)</pre></div></div></div><div class=\"sk-item sk-dashed-wrapped\"><div class=\"sk-label-container\"><div class=\"sk-label sk-toggleable\"><input class=\"sk-toggleable__control sk-hidden--visually\" id=\"274c621b-3daa-4d75-95f4-fb2dc68c6fbb\" type=\"checkbox\" ><label class=\"sk-toggleable__label\" for=\"274c621b-3daa-4d75-95f4-fb2dc68c6fbb\">transform: ColumnTransformer</label><div class=\"sk-toggleable__content\"><pre>ColumnTransformer(transformers=[('numeric',\n",
              "                                 Pipeline(steps=[('imputer_mean',\n",
              "                                                  SimpleImputer())]),\n",
              "                                 ['age', 'chol', 'oldpeak', 'trestbps']),\n",
              "                                ('categorical',\n",
              "                                 Pipeline(steps=[('imputer_mode',\n",
              "                                                  SimpleImputer(strategy='most_frequent')),\n",
              "                                                 ('onehot',\n",
              "                                                  OneHotEncoder(handle_unknown='ignore'))]),\n",
              "                                 ['ca', 'cp_reduced', 'exang', 'fbs', 'restecg',\n",
              "                                  'sex', 'slope', 'thal'])])</pre></div></div></div><div class=\"sk-parallel\"><div class=\"sk-parallel-item\"><div class=\"sk-item\"><div class=\"sk-label-container\"><div class=\"sk-label sk-toggleable\"><input class=\"sk-toggleable__control sk-hidden--visually\" id=\"fb9b4e0a-b650-4121-a190-0d9ecbad0262\" type=\"checkbox\" ><label class=\"sk-toggleable__label\" for=\"fb9b4e0a-b650-4121-a190-0d9ecbad0262\">numeric</label><div class=\"sk-toggleable__content\"><pre>['age', 'chol', 'oldpeak', 'trestbps']</pre></div></div></div><div class=\"sk-serial\"><div class=\"sk-item\"><div class=\"sk-serial\"><div class=\"sk-item\"><div class=\"sk-estimator sk-toggleable\"><input class=\"sk-toggleable__control sk-hidden--visually\" id=\"1053cc23-3ec2-4ade-be7b-68ea1c008a34\" type=\"checkbox\" ><label class=\"sk-toggleable__label\" for=\"1053cc23-3ec2-4ade-be7b-68ea1c008a34\">SimpleImputer</label><div class=\"sk-toggleable__content\"><pre>SimpleImputer()</pre></div></div></div></div></div></div></div></div><div class=\"sk-parallel-item\"><div class=\"sk-item\"><div class=\"sk-label-container\"><div class=\"sk-label sk-toggleable\"><input class=\"sk-toggleable__control sk-hidden--visually\" id=\"0c235bd5-749e-40ca-9b21-c44512072b8e\" type=\"checkbox\" ><label class=\"sk-toggleable__label\" for=\"0c235bd5-749e-40ca-9b21-c44512072b8e\">categorical</label><div class=\"sk-toggleable__content\"><pre>['ca', 'cp_reduced', 'exang', 'fbs', 'restecg', 'sex', 'slope', 'thal']</pre></div></div></div><div class=\"sk-serial\"><div class=\"sk-item\"><div class=\"sk-serial\"><div class=\"sk-item\"><div class=\"sk-estimator sk-toggleable\"><input class=\"sk-toggleable__control sk-hidden--visually\" id=\"7fcccfa2-cffd-40e0-915b-b6f3c263c4b3\" type=\"checkbox\" ><label class=\"sk-toggleable__label\" for=\"7fcccfa2-cffd-40e0-915b-b6f3c263c4b3\">SimpleImputer</label><div class=\"sk-toggleable__content\"><pre>SimpleImputer(strategy='most_frequent')</pre></div></div></div><div class=\"sk-item\"><div class=\"sk-estimator sk-toggleable\"><input class=\"sk-toggleable__control sk-hidden--visually\" id=\"9c4c38b3-9652-4adf-8951-728469ba343e\" type=\"checkbox\" ><label class=\"sk-toggleable__label\" for=\"9c4c38b3-9652-4adf-8951-728469ba343e\">OneHotEncoder</label><div class=\"sk-toggleable__content\"><pre>OneHotEncoder(handle_unknown='ignore')</pre></div></div></div></div></div></div></div></div></div></div><div class=\"sk-item\"><div class=\"sk-estimator sk-toggleable\"><input class=\"sk-toggleable__control sk-hidden--visually\" id=\"69377a6f-22a3-4cbb-a1cf-81a9f8080c43\" type=\"checkbox\" ><label class=\"sk-toggleable__label\" for=\"69377a6f-22a3-4cbb-a1cf-81a9f8080c43\">StandardScaler</label><div class=\"sk-toggleable__content\"><pre>StandardScaler()</pre></div></div></div></div></div><div class=\"sk-item\"><div class=\"sk-estimator sk-toggleable\"><input class=\"sk-toggleable__control sk-hidden--visually\" id=\"168b1af3-2a6c-4837-ae13-06f5e68c69a3\" type=\"checkbox\" ><label class=\"sk-toggleable__label\" for=\"168b1af3-2a6c-4837-ae13-06f5e68c69a3\">MLPClassifier</label><div class=\"sk-toggleable__content\"><pre>MLPClassifier(alpha=100, hidden_layer_sizes=50, max_iter=10000, random_state=0,\n",
              "              solver='lbfgs')</pre></div></div></div></div></div></div></div>"
            ],
            "text/plain": [
              "Pipeline(steps=[('preprocesspipeline',\n",
              "                 Pipeline(steps=[('adddrop',\n",
              "                                  ColAdderDropper(num_top_cp_values=9)),\n",
              "                                 ('transform',\n",
              "                                  ColumnTransformer(transformers=[('numeric',\n",
              "                                                                   Pipeline(steps=[('imputer_mean',\n",
              "                                                                                    SimpleImputer())]),\n",
              "                                                                   ['age',\n",
              "                                                                    'chol',\n",
              "                                                                    'oldpeak',\n",
              "                                                                    'trestbps']),\n",
              "                                                                  ('categorical',\n",
              "                                                                   Pipeline(steps=[('imputer_mode',\n",
              "                                                                                    SimpleImputer(strategy='most_frequent')),\n",
              "                                                                                   ('onehot',\n",
              "                                                                                    OneHotEncoder(handle_unknown='ignore'))]),\n",
              "                                                                   ['ca',\n",
              "                                                                    'cp_reduced',\n",
              "                                                                    'exang',\n",
              "                                                                    'fbs',\n",
              "                                                                    'restecg',\n",
              "                                                                    'sex',\n",
              "                                                                    'slope',\n",
              "                                                                    'thal'])])),\n",
              "                                 ('scaler', StandardScaler())])),\n",
              "                ('mlpclassifier',\n",
              "                 MLPClassifier(alpha=100, hidden_layer_sizes=50, max_iter=10000,\n",
              "                               random_state=0, solver='lbfgs'))])"
            ]
          },
          "metadata": {},
          "execution_count": 29
        }
      ],
      "source": [
        "# TEST\n",
        "full_pipeline"
      ]
    },
    {
      "cell_type": "code",
      "execution_count": 30,
      "metadata": {
        "deletable": false,
        "editable": false,
        "id": "XoKMAgEulVHC",
        "nbgrader": {
          "cell_type": "code",
          "checksum": "f33688c1c8f4b1a71567209f5872b5e7",
          "grade": true,
          "grade_id": "cell-0b98eab69b5f1ff7",
          "locked": true,
          "points": 1.5,
          "schema_version": 3,
          "solution": false,
          "task": false
        }
      },
      "outputs": [],
      "source": [
        "# TEST\n",
        "assert round(best_val_acc, 2) == 85.71\n",
        "assert best_alpha == 1\n",
        "assert best_num_top_cp_values == 3"
      ]
    },
    {
      "cell_type": "code",
      "execution_count": 31,
      "metadata": {
        "colab": {
          "base_uri": "https://localhost:8080/",
          "height": 351
        },
        "id": "IFTBKkW5lVHC",
        "outputId": "dfd09b63-1117-472a-8b6f-a29c38148ed4"
      },
      "outputs": [
        {
          "output_type": "display_data",
          "data": {
            "image/png": "[encoded data removed]",
            "text/plain": [
              "<Figure size 720x360 with 2 Axes>"
            ]
          },
          "metadata": {
            "needs_background": "light"
          }
        }
      ],
      "source": [
        "# Trực quan hóa kết quả\n",
        "train_accs_df = pd.DataFrame(data=np.array(train_accs).reshape(len(alphas), -1),\n",
        "                             index=alphas, columns=num_top_cp_values_s)\n",
        "val_accs_df = pd.DataFrame(\n",
        "    data=np.array(val_accs).reshape(len(alphas), -1), \n",
        "    index=alphas, columns=num_top_cp_values_s)\n",
        "min_err = min(min(train_accs), min(val_accs))\n",
        "max_err = max(max(train_accs), max(val_accs))\n",
        "plt.figure(figsize=(10, 5))\n",
        "plt.subplot(1, 2, 1)\n",
        "sns.heatmap(train_accs_df, vmin=min_err, vmax=max_err, square=True, \n",
        "            annot=True, cbar=False, fmt='.2f', cmap='Reds')\n",
        "plt.title('train accuracies'); plt.xlabel('num_top_cp_values'); plt.ylabel('alpha')\n",
        "plt.subplot(1, 2, 2)\n",
        "sns.heatmap(val_accs_df, vmin=min_err, vmax=max_err, square=True, \n",
        "            annot=True, cbar=False, fmt='.2f', cmap='Reds')\n",
        "plt.title('validation accuracies'); plt.xlabel('num_top_cp_values'); plt.ylabel('alpha');"
      ]
    },
    {
      "cell_type": "markdown",
      "metadata": {
        "Collapsed": "false",
        "id": "wKoaXVyTlVHC"
      },
      "source": [
        "Nhận xét về ảnh hưởng của siêu tham số `alpha` (có sao thì bạn nói vậy, chỗ nào không biết thì nói là không biết): \n",
        "- Bạn kỳ vọng khi `alpha` thay đổi thì độ chính xác trên tập huấn luyện và tập validation sẽ thay đổi như thế nào? Tại sao bạn lại kỳ vọng như vậy?\n",
        "- Kết quả ở trên có giống như kỳ vọng của bạn không? Nếu không thì bạn nghĩ xem tại sao lại như vậy?"
      ]
    },
    {
      "cell_type": "markdown",
      "metadata": {
        "deletable": false,
        "id": "rrIpJ6D6lVHC",
        "nbgrader": {
          "cell_type": "markdown",
          "checksum": "9e0471605e1a0872e36754fa0f485aa1",
          "grade": true,
          "grade_id": "cell-4debcfe69b8e605b",
          "locked": false,
          "points": 1,
          "schema_version": 3,
          "solution": true,
          "task": false
        }
      },
      "source": [
        "YOUR ANSWER HERE\n",
        "\n",
        "Ở tập train: Tham số alpha tăng thì accuracy giảm\n",
        "* Kỳ vọng: Tham số alpha tăng thì accuracy giảm ở tập validation\n",
        "* Thực tế: Ngược lại, tham số alpha tăng thì accuracy tăng (nhìn chung)"
      ]
    },
    {
      "cell_type": "markdown",
      "metadata": {
        "Collapsed": "false",
        "id": "7bYIi4s8lVHD"
      },
      "source": [
        "Nhận xét về ảnh hưởng của siêu tham số `num_top_cp_values` (có sao thì bạn nói vậy, chỗ nào không biết thì nói là không biết): \n",
        "- Bạn kỳ vọng khi `num_top_cp_values` thay đổi thì độ chính xác trên tập huấn luyện và tập validation sẽ thay đổi như thế nào? Tại sao bạn lại kỳ vọng như vậy?\n",
        "- Kết quả ở trên có giống như kỳ vọng của bạn không? Nếu không thì bạn nghĩ xem tại sao lại như vậy?"
      ]
    },
    {
      "cell_type": "markdown",
      "metadata": {
        "deletable": false,
        "id": "TSylFa2NlVHD",
        "nbgrader": {
          "cell_type": "markdown",
          "checksum": "49982bae0349935c9ca94046bf830735",
          "grade": true,
          "grade_id": "cell-94737f293bd3c2a8",
          "locked": false,
          "points": 1,
          "schema_version": 3,
          "solution": true,
          "task": false
        }
      },
      "source": [
        "YOUR ANSWER HERE\n",
        "\n",
        "Ở tập train: Tham số `num_top_cp_values` có vẻ như không ảnh hưởng đến accuracy cho lắm, có nhưng khá nhỏ\n",
        "* Kỳ vọng: Không hẳn là kỳ vọng, nhưng quan sát thấy `num_top_cp_values` = 5 hoặc 7 có vẻ có accuracy cao hơn một xíu\n",
        "* Thực tế: `num_top_cp_values` = 3 có accuracy cao nhất"
      ]
    },
    {
      "cell_type": "markdown",
      "metadata": {
        "id": "F9-G4HQRlVHD"
      },
      "source": [
        "Cuối cùng, bạn sẽ huấn luyện lại `full_pipeline` trên `X_df` và `y_sr` (tập huấn luyện + tập validation) với `best_alpha` và `best_num_top_cp_values` tìm được ở trên để ra được mô hình cụ thể cuối cùng."
      ]
    },
    {
      "cell_type": "code",
      "execution_count": 32,
      "metadata": {
        "colab": {
          "base_uri": "https://localhost:8080/",
          "height": 319
        },
        "deletable": false,
        "id": "_H4FSj9FlVHD",
        "nbgrader": {
          "cell_type": "code",
          "checksum": "e771c0641435719860146ab39be71ef8",
          "grade": true,
          "grade_id": "cell-34157b0f98b9d3f5",
          "locked": false,
          "points": 0.5,
          "schema_version": 3,
          "solution": true,
          "task": false
        },
        "outputId": "a6d08c50-5785-45e3-c3e5-7b19a63cabd4"
      },
      "outputs": [
        {
          "output_type": "execute_result",
          "data": {
            "text/html": [
              "<style>#sk-9489b377-4a72-45e9-8c15-b6c751359ed7 {color: black;background-color: white;}#sk-9489b377-4a72-45e9-8c15-b6c751359ed7 pre{padding: 0;}#sk-9489b377-4a72-45e9-8c15-b6c751359ed7 div.sk-toggleable {background-color: white;}#sk-9489b377-4a72-45e9-8c15-b6c751359ed7 label.sk-toggleable__label {cursor: pointer;display: block;width: 100%;margin-bottom: 0;padding: 0.3em;box-sizing: border-box;text-align: center;}#sk-9489b377-4a72-45e9-8c15-b6c751359ed7 div.sk-toggleable__content {max-height: 0;max-width: 0;overflow: hidden;text-align: left;background-color: #f0f8ff;}#sk-9489b377-4a72-45e9-8c15-b6c751359ed7 div.sk-toggleable__content pre {margin: 0.2em;color: black;border-radius: 0.25em;background-color: #f0f8ff;}#sk-9489b377-4a72-45e9-8c15-b6c751359ed7 input.sk-toggleable__control:checked~div.sk-toggleable__content {max-height: 200px;max-width: 100%;overflow: auto;}#sk-9489b377-4a72-45e9-8c15-b6c751359ed7 div.sk-estimator input.sk-toggleable__control:checked~label.sk-toggleable__label {background-color: #d4ebff;}#sk-9489b377-4a72-45e9-8c15-b6c751359ed7 div.sk-label input.sk-toggleable__control:checked~label.sk-toggleable__label {background-color: #d4ebff;}#sk-9489b377-4a72-45e9-8c15-b6c751359ed7 input.sk-hidden--visually {border: 0;clip: rect(1px 1px 1px 1px);clip: rect(1px, 1px, 1px, 1px);height: 1px;margin: -1px;overflow: hidden;padding: 0;position: absolute;width: 1px;}#sk-9489b377-4a72-45e9-8c15-b6c751359ed7 div.sk-estimator {font-family: monospace;background-color: #f0f8ff;border: 1px dotted black;border-radius: 0.25em;box-sizing: border-box;margin-bottom: 0.5em;}#sk-9489b377-4a72-45e9-8c15-b6c751359ed7 div.sk-estimator:hover {background-color: #d4ebff;}#sk-9489b377-4a72-45e9-8c15-b6c751359ed7 div.sk-parallel-item::after {content: \"\";width: 100%;border-bottom: 1px solid gray;flex-grow: 1;}#sk-9489b377-4a72-45e9-8c15-b6c751359ed7 div.sk-label:hover label.sk-toggleable__label {background-color: #d4ebff;}#sk-9489b377-4a72-45e9-8c15-b6c751359ed7 div.sk-serial::before {content: \"\";position: absolute;border-left: 1px solid gray;box-sizing: border-box;top: 2em;bottom: 0;left: 50%;}#sk-9489b377-4a72-45e9-8c15-b6c751359ed7 div.sk-serial {display: flex;flex-direction: column;align-items: center;background-color: white;padding-right: 0.2em;padding-left: 0.2em;}#sk-9489b377-4a72-45e9-8c15-b6c751359ed7 div.sk-item {z-index: 1;}#sk-9489b377-4a72-45e9-8c15-b6c751359ed7 div.sk-parallel {display: flex;align-items: stretch;justify-content: center;background-color: white;}#sk-9489b377-4a72-45e9-8c15-b6c751359ed7 div.sk-parallel::before {content: \"\";position: absolute;border-left: 1px solid gray;box-sizing: border-box;top: 2em;bottom: 0;left: 50%;}#sk-9489b377-4a72-45e9-8c15-b6c751359ed7 div.sk-parallel-item {display: flex;flex-direction: column;position: relative;background-color: white;}#sk-9489b377-4a72-45e9-8c15-b6c751359ed7 div.sk-parallel-item:first-child::after {align-self: flex-end;width: 50%;}#sk-9489b377-4a72-45e9-8c15-b6c751359ed7 div.sk-parallel-item:last-child::after {align-self: flex-start;width: 50%;}#sk-9489b377-4a72-45e9-8c15-b6c751359ed7 div.sk-parallel-item:only-child::after {width: 0;}#sk-9489b377-4a72-45e9-8c15-b6c751359ed7 div.sk-dashed-wrapped {border: 1px dashed gray;margin: 0 0.4em 0.5em 0.4em;box-sizing: border-box;padding-bottom: 0.4em;background-color: white;position: relative;}#sk-9489b377-4a72-45e9-8c15-b6c751359ed7 div.sk-label label {font-family: monospace;font-weight: bold;background-color: white;display: inline-block;line-height: 1.2em;}#sk-9489b377-4a72-45e9-8c15-b6c751359ed7 div.sk-label-container {position: relative;z-index: 2;text-align: center;}#sk-9489b377-4a72-45e9-8c15-b6c751359ed7 div.sk-container {display: inline-block;position: relative;}</style><div id=\"sk-9489b377-4a72-45e9-8c15-b6c751359ed7\" class\"sk-top-container\"><div class=\"sk-container\"><div class=\"sk-item sk-dashed-wrapped\"><div class=\"sk-label-container\"><div class=\"sk-label sk-toggleable\"><input class=\"sk-toggleable__control sk-hidden--visually\" id=\"46a4cbf5-47c5-4d34-8c88-610a3f316859\" type=\"checkbox\" ><label class=\"sk-toggleable__label\" for=\"46a4cbf5-47c5-4d34-8c88-610a3f316859\">Pipeline</label><div class=\"sk-toggleable__content\"><pre>Pipeline(steps=[('preprocesspipeline',\n",
              "                 Pipeline(steps=[('adddrop', ColAdderDropper()),\n",
              "                                 ('transform',\n",
              "                                  ColumnTransformer(transformers=[('numeric',\n",
              "                                                                   Pipeline(steps=[('imputer_mean',\n",
              "                                                                                    SimpleImputer())]),\n",
              "                                                                   ['age',\n",
              "                                                                    'chol',\n",
              "                                                                    'oldpeak',\n",
              "                                                                    'trestbps']),\n",
              "                                                                  ('categorical',\n",
              "                                                                   Pipeline(steps=[('imputer_mode',\n",
              "                                                                                    SimpleImputer(strategy='most_frequent')),\n",
              "                                                                                   ('onehot',\n",
              "                                                                                    OneHotEncoder(handle_unknown='ignore'))]),\n",
              "                                                                   ['ca',\n",
              "                                                                    'cp_reduced',\n",
              "                                                                    'exang',\n",
              "                                                                    'fbs',\n",
              "                                                                    'restecg',\n",
              "                                                                    'sex',\n",
              "                                                                    'slope',\n",
              "                                                                    'thal'])])),\n",
              "                                 ('scaler', StandardScaler())])),\n",
              "                ('mlpclassifier',\n",
              "                 MLPClassifier(alpha=1, hidden_layer_sizes=50, max_iter=10000,\n",
              "                               random_state=0, solver='lbfgs'))])</pre></div></div></div><div class=\"sk-serial\"><div class=\"sk-item\"><div class=\"sk-label-container\"><div class=\"sk-label sk-toggleable\"><input class=\"sk-toggleable__control sk-hidden--visually\" id=\"16081176-0859-4b9e-b0a5-426e370bbded\" type=\"checkbox\" ><label class=\"sk-toggleable__label\" for=\"16081176-0859-4b9e-b0a5-426e370bbded\">preprocesspipeline: Pipeline</label><div class=\"sk-toggleable__content\"><pre>Pipeline(steps=[('adddrop', ColAdderDropper()),\n",
              "                ('transform',\n",
              "                 ColumnTransformer(transformers=[('numeric',\n",
              "                                                  Pipeline(steps=[('imputer_mean',\n",
              "                                                                   SimpleImputer())]),\n",
              "                                                  ['age', 'chol', 'oldpeak',\n",
              "                                                   'trestbps']),\n",
              "                                                 ('categorical',\n",
              "                                                  Pipeline(steps=[('imputer_mode',\n",
              "                                                                   SimpleImputer(strategy='most_frequent')),\n",
              "                                                                  ('onehot',\n",
              "                                                                   OneHotEncoder(handle_unknown='ignore'))]),\n",
              "                                                  ['ca', 'cp_reduced', 'exang',\n",
              "                                                   'fbs', 'restecg', 'sex',\n",
              "                                                   'slope', 'thal'])])),\n",
              "                ('scaler', StandardScaler())])</pre></div></div></div><div class=\"sk-serial\"><div class=\"sk-item\"><div class=\"sk-estimator sk-toggleable\"><input class=\"sk-toggleable__control sk-hidden--visually\" id=\"4dfa8407-6a9c-4da3-bee9-cd43bbc81635\" type=\"checkbox\" ><label class=\"sk-toggleable__label\" for=\"4dfa8407-6a9c-4da3-bee9-cd43bbc81635\">ColAdderDropper</label><div class=\"sk-toggleable__content\"><pre>ColAdderDropper()</pre></div></div></div><div class=\"sk-item sk-dashed-wrapped\"><div class=\"sk-label-container\"><div class=\"sk-label sk-toggleable\"><input class=\"sk-toggleable__control sk-hidden--visually\" id=\"852717f4-b778-4443-88b8-76a4138067ed\" type=\"checkbox\" ><label class=\"sk-toggleable__label\" for=\"852717f4-b778-4443-88b8-76a4138067ed\">transform: ColumnTransformer</label><div class=\"sk-toggleable__content\"><pre>ColumnTransformer(transformers=[('numeric',\n",
              "                                 Pipeline(steps=[('imputer_mean',\n",
              "                                                  SimpleImputer())]),\n",
              "                                 ['age', 'chol', 'oldpeak', 'trestbps']),\n",
              "                                ('categorical',\n",
              "                                 Pipeline(steps=[('imputer_mode',\n",
              "                                                  SimpleImputer(strategy='most_frequent')),\n",
              "                                                 ('onehot',\n",
              "                                                  OneHotEncoder(handle_unknown='ignore'))]),\n",
              "                                 ['ca', 'cp_reduced', 'exang', 'fbs', 'restecg',\n",
              "                                  'sex', 'slope', 'thal'])])</pre></div></div></div><div class=\"sk-parallel\"><div class=\"sk-parallel-item\"><div class=\"sk-item\"><div class=\"sk-label-container\"><div class=\"sk-label sk-toggleable\"><input class=\"sk-toggleable__control sk-hidden--visually\" id=\"9cb2f055-7e97-4ade-8fcc-941df23ba023\" type=\"checkbox\" ><label class=\"sk-toggleable__label\" for=\"9cb2f055-7e97-4ade-8fcc-941df23ba023\">numeric</label><div class=\"sk-toggleable__content\"><pre>['age', 'chol', 'oldpeak', 'trestbps']</pre></div></div></div><div class=\"sk-serial\"><div class=\"sk-item\"><div class=\"sk-serial\"><div class=\"sk-item\"><div class=\"sk-estimator sk-toggleable\"><input class=\"sk-toggleable__control sk-hidden--visually\" id=\"6021d107-ee2f-4e4f-bece-ed222d4c5f32\" type=\"checkbox\" ><label class=\"sk-toggleable__label\" for=\"6021d107-ee2f-4e4f-bece-ed222d4c5f32\">SimpleImputer</label><div class=\"sk-toggleable__content\"><pre>SimpleImputer()</pre></div></div></div></div></div></div></div></div><div class=\"sk-parallel-item\"><div class=\"sk-item\"><div class=\"sk-label-container\"><div class=\"sk-label sk-toggleable\"><input class=\"sk-toggleable__control sk-hidden--visually\" id=\"725c0045-6f33-4437-8220-43655580a2a7\" type=\"checkbox\" ><label class=\"sk-toggleable__label\" for=\"725c0045-6f33-4437-8220-43655580a2a7\">categorical</label><div class=\"sk-toggleable__content\"><pre>['ca', 'cp_reduced', 'exang', 'fbs', 'restecg', 'sex', 'slope', 'thal']</pre></div></div></div><div class=\"sk-serial\"><div class=\"sk-item\"><div class=\"sk-serial\"><div class=\"sk-item\"><div class=\"sk-estimator sk-toggleable\"><input class=\"sk-toggleable__control sk-hidden--visually\" id=\"13989719-5b8f-4afe-adc7-d5daddacbc5c\" type=\"checkbox\" ><label class=\"sk-toggleable__label\" for=\"13989719-5b8f-4afe-adc7-d5daddacbc5c\">SimpleImputer</label><div class=\"sk-toggleable__content\"><pre>SimpleImputer(strategy='most_frequent')</pre></div></div></div><div class=\"sk-item\"><div class=\"sk-estimator sk-toggleable\"><input class=\"sk-toggleable__control sk-hidden--visually\" id=\"5d788385-2d12-480b-8c38-ee551c0a358c\" type=\"checkbox\" ><label class=\"sk-toggleable__label\" for=\"5d788385-2d12-480b-8c38-ee551c0a358c\">OneHotEncoder</label><div class=\"sk-toggleable__content\"><pre>OneHotEncoder(handle_unknown='ignore')</pre></div></div></div></div></div></div></div></div></div></div><div class=\"sk-item\"><div class=\"sk-estimator sk-toggleable\"><input class=\"sk-toggleable__control sk-hidden--visually\" id=\"b90050f9-8a18-47e1-a1ff-68f0881e9b4f\" type=\"checkbox\" ><label class=\"sk-toggleable__label\" for=\"b90050f9-8a18-47e1-a1ff-68f0881e9b4f\">StandardScaler</label><div class=\"sk-toggleable__content\"><pre>StandardScaler()</pre></div></div></div></div></div><div class=\"sk-item\"><div class=\"sk-estimator sk-toggleable\"><input class=\"sk-toggleable__control sk-hidden--visually\" id=\"b986d606-e7c7-4a61-aaa1-bf662c06a52e\" type=\"checkbox\" ><label class=\"sk-toggleable__label\" for=\"b986d606-e7c7-4a61-aaa1-bf662c06a52e\">MLPClassifier</label><div class=\"sk-toggleable__content\"><pre>MLPClassifier(alpha=1, hidden_layer_sizes=50, max_iter=10000, random_state=0,\n",
              "              solver='lbfgs')</pre></div></div></div></div></div></div></div>"
            ],
            "text/plain": [
              "Pipeline(steps=[('preprocesspipeline',\n",
              "                 Pipeline(steps=[('adddrop', ColAdderDropper()),\n",
              "                                 ('transform',\n",
              "                                  ColumnTransformer(transformers=[('numeric',\n",
              "                                                                   Pipeline(steps=[('imputer_mean',\n",
              "                                                                                    SimpleImputer())]),\n",
              "                                                                   ['age',\n",
              "                                                                    'chol',\n",
              "                                                                    'oldpeak',\n",
              "                                                                    'trestbps']),\n",
              "                                                                  ('categorical',\n",
              "                                                                   Pipeline(steps=[('imputer_mode',\n",
              "                                                                                    SimpleImputer(strategy='most_frequent')),\n",
              "                                                                                   ('onehot',\n",
              "                                                                                    OneHotEncoder(handle_unknown='ignore'))]),\n",
              "                                                                   ['ca',\n",
              "                                                                    'cp_reduced',\n",
              "                                                                    'exang',\n",
              "                                                                    'fbs',\n",
              "                                                                    'restecg',\n",
              "                                                                    'sex',\n",
              "                                                                    'slope',\n",
              "                                                                    'thal'])])),\n",
              "                                 ('scaler', StandardScaler())])),\n",
              "                ('mlpclassifier',\n",
              "                 MLPClassifier(alpha=1, hidden_layer_sizes=50, max_iter=10000,\n",
              "                               random_state=0, solver='lbfgs'))])"
            ]
          },
          "metadata": {},
          "execution_count": 32
        }
      ],
      "source": [
        "# YOUR CODE HERE\n",
        "full_pipeline.set_params(mlpclassifier__alpha = best_alpha)\n",
        "full_pipeline.set_params(preprocesspipeline__adddrop__num_top_cp_values = best_num_top_cp_values)\n",
        "\n",
        "full_pipeline.fit(X_df, y_sr)"
      ]
    },
    {
      "cell_type": "markdown",
      "metadata": {
        "Collapsed": "false",
        "id": "s7un-crLlVHD"
      },
      "source": [
        "### Đánh giá mô hình tìm được (1đ)\n",
        "Bạn sẽ dùng mô hình cụ thể cuối cùng ở trên để dự đoán với các input trong tập test (file \"lab03_test.csv\"). Để mình có thể chấm điểm (so sánh với groundtruth đã bị ẩn) thì bạn phải tạo ra file csv có 1 cột `target` duy nhất là giá trị dự đoán của bạn (1 - có bệnh, và 0 - không). Bạn đặt tên file của bạn là `my_preds.csv`."
      ]
    },
    {
      "cell_type": "code",
      "execution_count": 33,
      "metadata": {
        "id": "5jk7q3AaygtG"
      },
      "outputs": [],
      "source": [
        "test_X_df = pd.read_csv(\"lab03_test.csv\")"
      ]
    },
    {
      "cell_type": "code",
      "execution_count": 34,
      "metadata": {
        "id": "W6lbh5jeywFl"
      },
      "outputs": [],
      "source": [
        "test_X_df.to_csv(\"lab03_test.csv\",index=False)"
      ]
    },
    {
      "cell_type": "code",
      "execution_count": 35,
      "metadata": {
        "Collapsed": "false",
        "deletable": false,
        "id": "YXC5LEqNlVHE",
        "nbgrader": {
          "cell_type": "code",
          "checksum": "226b0f0ebb7e79c2866d02164cec9e2d",
          "grade": false,
          "grade_id": "cell-e184d7a3003ba334",
          "locked": false,
          "schema_version": 3,
          "solution": true,
          "task": false
        }
      },
      "outputs": [],
      "source": [
        "# YOUR CODE HERE\n",
        "pred = full_pipeline.predict(test_X_df)\n",
        "\n",
        "pred_df = pd.DataFrame()\n",
        "pred_df['target']=pd.Series(pred)\n",
        "\n",
        "pred_df.to_csv(\"my_preds.csv\", index=False)"
      ]
    },
    {
      "cell_type": "code",
      "execution_count": 36,
      "metadata": {
        "deletable": false,
        "editable": false,
        "id": "1d6trk_elVHE",
        "nbgrader": {
          "cell_type": "code",
          "checksum": "a1ff8fb8e8c561377393942df69da26c",
          "grade": true,
          "grade_id": "cell-dbdc218117501513",
          "locked": true,
          "points": 0.75,
          "schema_version": 3,
          "solution": false,
          "task": false
        }
      },
      "outputs": [],
      "source": [
        "# TEST\n",
        "my_preds_df = pd.read_csv('my_preds.csv')\n",
        "assert round(my_preds_df['target'].mean(), 3) == 0.574\n",
        "assert np.all(my_preds_df.iloc[:5].values.reshape(-1) == \\\n",
        "                                     np.array([0, 0, 1, 0, 0]))"
      ]
    },
    {
      "cell_type": "markdown",
      "metadata": {
        "id": "oy9yh-uEiiXr"
      },
      "source": [
        "### Thí nghiệm với các mô hình phân lớp khác (Bonus, tối đa 2đ).\n",
        "\n",
        "Trong phần này, các bạn có thể thử các mô hình phân lớp khác với MLP ở phần trên để tối ưu độ chính xác trên tập validation (hoặc test) nhất có thể. \n",
        "\n",
        "Các bạn có thể thử trên subset của các features để tìm ra bộ features tối ưu nhất. Hoặc Các bạn cũng có thể thử **tinh chỉnh** các siêu tham số của mô hình MLP ở trên để tìm ra bộ tham số tối ưu hơn (chẳng hạn như `hidden_layer`, `activation`, `solver`, `learning_rate`). Bạn nào có kết quả trên tập test (của mình) càng cao thì càng được nhiều điểm nhé 💪💪💪\n"
      ]
    },
    {
      "cell_type": "code",
      "execution_count": 37,
      "metadata": {
        "id": "H4f1J1ODimKg"
      },
      "outputs": [],
      "source": [
        "# YOUR CODE HERE"
      ]
    }
  ],
  "metadata": {
    "colab": {
      "collapsed_sections": [],
      "name": "Lab03.ipynb",
      "provenance": []
    },
    "kernelspec": {
      "display_name": "Python 3 (ipykernel)",
      "language": "python",
      "name": "python3"
    },
    "language_info": {
      "codemirror_mode": {
        "name": "ipython",
        "version": 3
      },
      "file_extension": ".py",
      "mimetype": "text/x-python",
      "name": "python",
      "nbconvert_exporter": "python",
      "pygments_lexer": "ipython3",
      "version": "3.8.10"
    },
    "toc": {
      "base_numbering": 1,
      "nav_menu": {
        "height": "153px",
        "width": "252px"
      },
      "number_sections": false,
      "sideBar": true,
      "skip_h1_title": false,
      "title_cell": "Table of Contents",
      "title_sidebar": "Contents",
      "toc_cell": false,
      "toc_position": {
        "height": "calc(100% - 180px)",
        "left": "10px",
        "top": "150px",
        "width": "176px"
      },
      "toc_section_display": "block",
      "toc_window_display": true
    },
    "toc-autonumbering": true
  },
  "nbformat": 4,
  "nbformat_minor": 0
}