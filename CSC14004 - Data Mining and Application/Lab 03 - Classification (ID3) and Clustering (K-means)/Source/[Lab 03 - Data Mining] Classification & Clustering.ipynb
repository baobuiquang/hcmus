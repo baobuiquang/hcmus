{
 "cells": [
  {
   "cell_type": "markdown",
   "id": "3b9ca58e",
   "metadata": {
    "id": "3b9ca58e"
   },
   "source": [
    "# Đồ án 03: Phân lớp và Gom nhóm\n",
    "\n",
    "- Họ tên: Bùi Quang Bảo\n",
    "- MSSV: 19120454"
   ]
  },
  {
   "cell_type": "markdown",
   "id": "9fcb7960",
   "metadata": {
    "deletable": false,
    "editable": false,
    "id": "9fcb7960",
    "nbgrader": {
     "cell_type": "markdown",
     "checksum": "82dc970622d3c0febfee4cee8df683fb",
     "grade": false,
     "grade_id": "project_content",
     "locked": true,
     "schema_version": 3,
     "solution": false,
     "task": false
    }
   },
   "source": [
    "## Nội dung đồ án\n",
    "\n",
    "Đồ án này hướng đến việc giúp các bạn thực hành và kiểm tra kiến thức về các thuật toán Phân lớp và Gom nhóm đã được học trong môn Khai thác Dữ liệu và Ứng dụng. \n",
    "\n",
    "Nội dung của đồ án này bao gồm:\n",
    "\n",
    "- Phân lớp dữ liệu nhị phân với Cây quyết định sử dụng thuật toán ID3\n",
    "- Gom nhóm dữ liệu với thuật toán k-means clustering\n"
   ]
  },
  {
   "cell_type": "markdown",
   "id": "XHGUv7o9ajw0",
   "metadata": {
    "deletable": false,
    "editable": false,
    "id": "XHGUv7o9ajw0",
    "nbgrader": {
     "cell_type": "markdown",
     "checksum": "3b785e40de1f2e077f34fc63b7945b7e",
     "grade": false,
     "grade_id": "project_instruction",
     "locked": true,
     "schema_version": 3,
     "solution": false,
     "task": false
    }
   },
   "source": [
    "## Hướng dẫn làm bài\n",
    "\n",
    "Các bạn cần hoàn thành đồ án bằng cách điền vào các ô code có ```YOUR CODE HERE``` hoặc các ô text có ```Your answer here``` \n",
    "\n",
    "<font color='red'>**LƯU Ý:**</font>\n",
    "\n",
    "- Bài làm của sinh viên phải do chính bản thân sinh viên tự làm, có thể trao đổi và tham khảo ý tưởng nhưng không được sao chép (một phần hoặc toàn bộ) code hoặc lời giải từ bất cứ người nào khác. Nếu vi phạm sẽ bị <font color='red'>0đ</font> bài tập này.\n",
    "- Các bạn có thể tạo thêm các cell trong quá trình code, tuy nhiên các bạn vui lòng <font color='red'>không xóa các cell code mặc định và các cell test case</font> (vì có thể ảnh hưởng đến kết quả khi chấm bài).\n",
    "- Các test case (nếu có) được đưa ra chỉ nhằm mục đích giúp các bạn test code của mình, việc pass các test case này không đồng nghĩa với việc lời giải của các bạn sẽ đạt điểm tối đa. "
   ]
  },
  {
   "cell_type": "markdown",
   "id": "e0e36d4a",
   "metadata": {
    "deletable": false,
    "editable": false,
    "id": "e0e36d4a",
    "nbgrader": {
     "cell_type": "markdown",
     "checksum": "6423679f1a3889c5b6bbe7cbb9316cc6",
     "grade": false,
     "grade_id": "project_submission",
     "locked": true,
     "schema_version": 3,
     "solution": false,
     "task": false
    }
   },
   "source": [
    "## Hướng dẫn nộp bài\n",
    "\n",
    "Khi chấm bài, đầu tiên mình sẽ chọn `Kernel` - `Restart Kernel & Run All Cells`, để restart và chạy tất cả các cell trong notebook của các bạn; do đó, trước khi nộp bài, các bạn nên chạy thử `Kernel` - `Restart Kernel & Run All Cells` để đảm bảo mọi chuyện diễn ra đúng như mong đợi.\n",
    "\n",
    "Sau đó, các bạn tạo thư mục nộp bài theo cấu trúc sau:\n",
    "\n",
    "- Thư mục `MSSV` (vd, nếu bạn có MSSV là 191235 thì bạn đặt tên thư mục là `191235`)\n",
    "    - ```data```: thư mục chứa các dữ liệu được cung cấp (và dữ liệu do bạn tìm thêm)\n",
    "    - ```[Lab 03 - Data Mining] Classification & Clustering.ipynb```: file bài làm của các bạn\n",
    "\n",
    "Cuối cùng, các bạn nén thư mục `MSSV` này lại và nộp ở link trên moodle **(Đuôi của file nén phải là .zip)**\n",
    "\n",
    "<font color=red>Các bạn lưu ý tuân thủ chính xác qui định nộp bài ở trên.</font>\n",
    "\n",
    "\n",
    "- Mọi thắc mắc trong quá trình làm bài, các bạn có thể tham khảo và điền vào [file Q&A](https://docs.google.com/spreadsheets/d/1BlUqNSl4Yn7LY1tNUM4gSRK3CbD8ZPhp37GVWXt-wmE/edit?usp=sharing), hoặc gửi mail đến  trợ giảng *Nguyễn Duy Khánh* (duykhanhnguyen360@gmail.com)\n",
    "\n",
    "\n",
    "<center><font color='green'>CHÚC CÁC BẠN HOÀN THÀNH THẬT TỐT ĐỒ ÁN!</font></center>"
   ]
  },
  {
   "cell_type": "markdown",
   "id": "m2LENWZYHkli",
   "metadata": {
    "id": "m2LENWZYHkli"
   },
   "source": [
    "## Phần I: Phân lớp (7đ) + 1đ bonus"
   ]
  },
  {
   "cell_type": "markdown",
   "id": "An0DlQbBd1v_",
   "metadata": {
    "id": "An0DlQbBd1v_"
   },
   "source": [
    "### Yêu cầu"
   ]
  },
  {
   "cell_type": "markdown",
   "id": "Pgqzo20KivVh",
   "metadata": {
    "id": "Pgqzo20KivVh"
   },
   "source": [
    "Trong phần này, các bạn sẽ cần viết chương trình Python để cài đặt Cây quyết định sử dụng thuật toán ID3.\n",
    "\n",
    "Dữ liệu: \n",
    "\n",
    "- Với đồ án này, các bạn chỉ cần xây dựng mô hình cây quyết định với các thuộc tính phân loại (categorical), không cần xử lý thuộc tính số (numerical) (các bạn có thể chuyển các thuộc tính numerical trong input về dạng categorical trước khi đưa vào mô hình)\n",
    "- Mỗi điểm dữ liệu chỉ thuộc 1 trong 2 nhãn (label) cho trước (binary classification)\n",
    "- Tập dữ liệu sử dụng: [tennis.txt](https://drive.google.com/file/d/1jv67IlMIxGxwGGaP47AZ_1t3mxIn82Y7/view?usp=sharing) và [titanic2.txt](https://drive.google.com/file/d/1IwOxcPz-Hq1_JOOfGylJxy1TYhDvfEsg/view?usp=sharing)\n",
    "\n",
    "\n",
    "Các bạn cần cài đặt hàm load dữ liệu và mô hình Cây quyết định với các phương thức sau:\n",
    "\n",
    "- ```fit```: xây dựng cây từ dữ liệu huấn luyện theo thuật toán ID3\n",
    "- ```predict```: dự đoán trên các điểm dữ liệu mới sử dụng cấu trúc cây đã xây dựng được từ dữ liệu huấn luyện\n",
    "- ```visualize```: vẽ cây quyết định đã xây dựng được từ tập dữ liệu huấn luyện. Các bạn có thể visualize cây quyết định đã xây dựng theo cách các bạn muốn, miễn sao có thể thấy được cấu trúc của cây (có thể tự implement hoặc sử dụng các package có sẵn như ```tree```, ```graphviz```, ...).  Ví dụ các bạn có thể visualize cây quyết định xây dựng được từ tập [tennis.txt](https://drive.google.com/file/d/1jv67IlMIxGxwGGaP47AZ_1t3mxIn82Y7/view?usp=sharing) như sau:\n",
    "\n",
    "```\n",
    "outlook = sunny\n",
    "|  humidity = high: no\n",
    "|  humidity = normal: yes\n",
    "outlook = overcast: yes\n",
    "outlook = rainy\n",
    "|  windy = TRUE: no\n",
    "|  windy = FALSE: yes\n",
    "```\n",
    "\n",
    "**Note**:\n",
    "\n",
    "- Với tập [tennis.txt](https://drive.google.com/file/d/1jv67IlMIxGxwGGaP47AZ_1t3mxIn82Y7/view?usp=sharing), sử dụng toàn bộ các điểm dữ liệu để làm tập train, không cần chia ra tập train và test. Với tập [titanic2.txt](https://drive.google.com/file/d/1IwOxcPz-Hq1_JOOfGylJxy1TYhDvfEsg/view?usp=sharing), các bạn sẽ cần chia ra tập train/test với tỉ lệ 80/20 (sử dụng ```train_test_split``` của ```sklearn``` với ```random_state=42```)\n",
    "- Hàm load dữ liệu và mô hình cây quyết định chỉ cài đặt 1 lần và phải sử dụng được cho các tập dữ liệu khác nhau\n",
    "- Với mỗi tập dữ liệu, các bạn cần ```load_data``` từ file input, ```fit``` mô hình với dữ liệu train, sử dụng mô hình huấn luyện để ```predict``` trên ```X_train```, ```X_test``` (nếu có) và tính độ chính xác (sử dụng hàm ```accuracy_score``` của ```sklearn```), cuối cùng là ```visualize``` mô hình đã huấn luyện\n",
    "- Sẽ có tối đa 1đ cộng nếu các bạn tự tìm và thực hiện tất cả các yêu cầu trên với tập dữ liệu mới"
   ]
  },
  {
   "cell_type": "markdown",
   "id": "ilCuHgbkd6w1",
   "metadata": {
    "id": "ilCuHgbkd6w1"
   },
   "source": [
    "### Cài đặt (6.5đ)"
   ]
  },
  {
   "cell_type": "code",
   "execution_count": 1,
   "id": "RD-kfiMzJA2g",
   "metadata": {
    "id": "RD-kfiMzJA2g"
   },
   "outputs": [],
   "source": [
    "import pandas as pd\n",
    "import numpy as np\n",
    "import sklearn\n",
    "from sklearn.metrics import accuracy_score\n",
    "from sklearn.model_selection import train_test_split"
   ]
  },
  {
   "cell_type": "code",
   "execution_count": 2,
   "id": "RCUFoiMvAP3X",
   "metadata": {
    "deletable": false,
    "executionInfo": {
     "elapsed": 518,
     "status": "ok",
     "timestamp": 1639881846113,
     "user": {
      "displayName": "Khánh Nguyễn",
      "photoUrl": "https://lh3.googleusercontent.com/a-/AOh14GhW5QOJudmqsBqdJ5x2Hfp3zqPDQQRP2FGMhp4kpg=s64",
      "userId": "03950222018643951363"
     },
     "user_tz": -420
    },
    "id": "RCUFoiMvAP3X",
    "nbgrader": {
     "cell_type": "code",
     "checksum": "fcf3d778354bd11b9680231c3cfcf0de",
     "grade": false,
     "grade_id": "cell-f737deab76c4a037",
     "locked": false,
     "schema_version": 3,
     "solution": true,
     "task": false
    }
   },
   "outputs": [],
   "source": [
    "# 1đ\n",
    "\n",
    "# Data loading and categorization (if necessary)\n",
    " \n",
    "def load_data(file_path, split=True):\n",
    "    \"\"\"\n",
    "    Load data from file path and return numpy data.\n",
    "\n",
    "    Parameters\n",
    "    ----------\n",
    "    file_path : str\n",
    "        The path of input data file (tab separated).\n",
    "    split : bool\n",
    "        Whether or not to return test set.\n",
    "\n",
    "    Returns\n",
    "    -------\n",
    "    (X_train, y_train), (None, None): training numpy array if split = False, else\n",
    "    (X_train, y_train), (X_test, y_test): training and testing numpy array if split = True\n",
    "    \"\"\"    \n",
    "    # YOUR CODE HERE\n",
    "    data = np.loadtxt(file_path, skiprows = 0, delimiter=\"\\t\", dtype=\"str\")\n",
    "\n",
    "    X = data[1:, :-1]\n",
    "    Y = data[1:, -1].reshape(-1,1)\n",
    "    attributes = data[0]\n",
    "\n",
    "    if split:\n",
    "        X_train, X_test, y_train, y_test = train_test_split(X, Y, test_size = 0.2, random_state = 42) # Theo yêu cầu 80/20, random_state = 42\n",
    "        return (X_train, y_train), (X_test, y_test), attributes\n",
    "    else:\n",
    "        return (X, Y), (None, None), attributes"
   ]
  },
  {
   "cell_type": "code",
   "execution_count": 3,
   "id": "a_uKLOc5jmjp",
   "metadata": {
    "deletable": false,
    "executionInfo": {
     "elapsed": 495,
     "status": "ok",
     "timestamp": 1639881870624,
     "user": {
      "displayName": "Khánh Nguyễn",
      "photoUrl": "https://lh3.googleusercontent.com/a-/AOh14GhW5QOJudmqsBqdJ5x2Hfp3zqPDQQRP2FGMhp4kpg=s64",
      "userId": "03950222018643951363"
     },
     "user_tz": -420
    },
    "id": "a_uKLOc5jmjp",
    "nbgrader": {
     "cell_type": "code",
     "checksum": "a080f471787eae8322aa1a2cecca4536",
     "grade": false,
     "grade_id": "cell-b00859438bb62792",
     "locked": false,
     "schema_version": 3,
     "solution": true,
     "task": false
    }
   },
   "outputs": [],
   "source": [
    "# 5đ\n",
    "\n",
    "# Decision Tree class\n",
    "# You should implement the ID3 algorithm here\n",
    "# You can add other utility methods to make your code easy to read :) \n",
    "\n",
    "class DecisionTree:\n",
    "    def __init__(self, max_depth = 1000):\n",
    "        # YOUR CODE HERE\n",
    "        self.tree = {}                  # Decision Tree\n",
    "        self.attributes = []            # Attributes name\n",
    "        self.label = ''                 # Attribute name to predict\n",
    "        self.class_list = []            \n",
    "        self.max_depth = max_depth      # Threshold to prevent overfitting\n",
    "\n",
    "    def fit(self, X_train, y_train, attributes):\n",
    "        # 4đ \n",
    "        # YOUR CODE HERE\n",
    "        self.attributes = attributes\n",
    "        self.label = attributes[-1]\n",
    "\n",
    "        X = np.concatenate(([attributes[:-1]], X_train))\n",
    "        X = pd.DataFrame(data = X[1:,:], columns = X[0,:])\n",
    "\n",
    "        Y = np.concatenate(([[attributes[-1]]], y_train))\n",
    "        Y = pd.DataFrame(data = Y[1:,:], columns = Y[0,:])\n",
    "\n",
    "        self.class_list = Y.iloc[:,0].unique()\n",
    "\n",
    "        train_data = X.copy()\n",
    "        train_data[self.label] = Y.values\n",
    "\n",
    "        root = {}\n",
    "        self.make_tree(root, None, train_data, 0)\n",
    "        self.tree = root\n",
    "\n",
    "    def predict(self, X_test):\n",
    "        # 0.5đ \n",
    "        # YOUR CODE HERE\n",
    "        X = np.concatenate(([self.attributes[:-1]], X_test))\n",
    "        X = pd.DataFrame(data = X[1:,:], columns = X[0,:])\n",
    "\n",
    "        pred_list = []\n",
    "        for index, row in X.iterrows():\n",
    "            result = self.make_predict(self.tree, X.iloc[index])\n",
    "            pred_list.append([result])\n",
    "        return np.array(pred_list)\n",
    "    \n",
    "    def visualize(self, cur_attr = \"\", cur_node = None, cur_depth = 0):\n",
    "        # 0.5đ \n",
    "        # YOUR CODE HERE\n",
    "        if cur_node == None:\n",
    "            cur_node = self.tree\n",
    "            print(\"Decision Tree:\", end = \"\")\n",
    "  \n",
    "        for key, value in cur_node.items():\n",
    "\n",
    "            if cur_depth % 2 != 0:\n",
    "                print(\"\\n|\", end = \"\")\n",
    "                for i in range(cur_depth):\n",
    "                    print(\"--\", end = \"\")\n",
    "                print(f\"{cur_attr} = {key} > \", end = \"\")\n",
    "\n",
    "            if not isinstance(value, dict):\n",
    "                print(f\"{value}\", end = \"\")\n",
    "            else:\n",
    "                self.visualize(key, value, cur_depth + 1)\n",
    "\n",
    "    def make_tree(self, cur_root, prev_feature_value, train_data, cur_depth = 0):\n",
    "\n",
    "        # print(f\"=================================\\n> make_tree > {cur_depth}\")\n",
    "        # print(f\"cur_root: {cur_root}\")\n",
    "        # print(f\"prev_feature_value: {prev_feature_value}\")\n",
    "        # print(f\"train_data: {train_data.shape}\")\n",
    "\n",
    "        # Prevent over-fitting\n",
    "        # Go deeper if the tree haven't reach the depth threshold yet\n",
    "        if cur_depth < self.max_depth:\n",
    "\n",
    "            if train_data.shape[0] != 0:\n",
    "                max_info_feature = self.find_most_informative_feature(train_data)\n",
    "                tree, train_data = self.generate_sub_tree(max_info_feature, train_data)\n",
    "                next_root = None\n",
    "\n",
    "                # print(f\"max_info_feature: {max_info_feature}\")\n",
    "                # print(f\"new tree: {tree}\")\n",
    "                # print(f\"new train_data: {train_data.shape}\")\n",
    "                \n",
    "                # If this is root node\n",
    "                if prev_feature_value == None:\n",
    "                    cur_root[max_info_feature] = tree\n",
    "                    next_root = cur_root[max_info_feature]\n",
    "\n",
    "                # If this is leaf node\n",
    "                else:\n",
    "                    cur_root[prev_feature_value] = dict()\n",
    "                    cur_root[prev_feature_value][max_info_feature] = tree\n",
    "                    next_root = cur_root[prev_feature_value][max_info_feature]\n",
    "\n",
    "                # print(\"---------------\")\n",
    "                # print(f\"final cur_root: {cur_root}\")\n",
    "                # print(f\"next_root: {next_root}\")\n",
    "                \n",
    "                for node, branch in list(next_root.items()):\n",
    "                    if branch == \"?\":\n",
    "                        feature_value_data = train_data[train_data[max_info_feature] == node]\n",
    "                        \n",
    "                        # print(f\"prev_feature_value: {prev_feature_value}\")\n",
    "                        # print(f\"train_data: {train_data.shape}\")\n",
    "                        # print(f\"feature_value_data: {feature_value_data.shape}\")\n",
    "\n",
    "                        if feature_value_data.shape != train_data.shape:\n",
    "                            self.make_tree(next_root, node, feature_value_data, cur_depth + 1)\n",
    "                        else:\n",
    "                            self.make_tree(next_root, node, feature_value_data, self.max_depth)\n",
    "        \n",
    "        # If the tree reached the depth threshold\n",
    "        # Just find the max occurred label and stop here\n",
    "        else:\n",
    "            # print(train_data)\n",
    "            label_occurrences = train_data[self.label].value_counts().to_dict()\n",
    "            # print(f\"> label_occurrences:\\n{label_occurrences}\")\n",
    "            max_occurred_label = max(label_occurrences, key = label_occurrences.get)\n",
    "            # print(f\"> max_occurred_label: {max_occurred_label}\")\n",
    "\n",
    "            cur_root[prev_feature_value] = max_occurred_label\n",
    "\n",
    "\n",
    "    def find_most_informative_feature(self, train_data):\n",
    "        feature_list = train_data.columns.drop(self.label)\n",
    "        max_info_gain = -1\n",
    "        max_info_feature = None\n",
    "        \n",
    "        for feature in feature_list:  \n",
    "            feature_info_gain = self.calc_info_gain(feature, train_data)\n",
    "            if max_info_gain < feature_info_gain:\n",
    "                max_info_gain = feature_info_gain\n",
    "                max_info_feature = feature\n",
    "                \n",
    "        return max_info_feature\n",
    "\n",
    "    def calc_info_gain(self, feature_name, train_data):\n",
    "        feature_value_list = train_data[feature_name].unique()\n",
    "        total_row = train_data.shape[0]\n",
    "        feature_info = 0.0\n",
    "        \n",
    "        for feature_value in feature_value_list:\n",
    "            feature_value_data = train_data[train_data[feature_name] == feature_value]\n",
    "            feature_value_count = feature_value_data.shape[0]\n",
    "            feature_value_entropy = self.calc_entropy(feature_value_data)\n",
    "            feature_value_probability = feature_value_count/total_row\n",
    "            feature_info += feature_value_probability * feature_value_entropy\n",
    "            \n",
    "        return self.calc_total_entropy(train_data) - feature_info\n",
    "\n",
    "    def calc_entropy(self, feature_value_data):\n",
    "        class_count = feature_value_data.shape[0]\n",
    "        entropy = 0\n",
    "        \n",
    "        for c in self.class_list:\n",
    "            label_class_count = feature_value_data[feature_value_data[self.label] == c].shape[0]\n",
    "        \n",
    "            entropy_class = 0\n",
    "            if label_class_count != 0:\n",
    "                probability_class = label_class_count/class_count\n",
    "                entropy_class = - probability_class * np.log2(probability_class) \n",
    "            \n",
    "            entropy += entropy_class\n",
    "            \n",
    "        return entropy\n",
    "\n",
    "    def calc_total_entropy(self, train_data):\n",
    "        total_row = train_data.shape[0]\n",
    "        total_entr = 0\n",
    "        \n",
    "        for c in self.class_list:\n",
    "            total_class_count = train_data[train_data[self.label] == c].shape[0]\n",
    "            total_class_entr = - (total_class_count/total_row)*np.log2(total_class_count/total_row) \n",
    "            total_entr += total_class_entr\n",
    "        \n",
    "        return total_entr\n",
    "\n",
    "    def generate_sub_tree(self, feature_name, train_data):\n",
    "        feature_value_count_dict = train_data[feature_name].value_counts(sort=False)\n",
    "        tree = {}\n",
    "        \n",
    "        for feature_value, count in feature_value_count_dict.iteritems():\n",
    "            feature_value_data = train_data[train_data[feature_name] == feature_value]\n",
    "            \n",
    "            assigned_to_node = False\n",
    "            for c in self.class_list:\n",
    "                class_count = feature_value_data[feature_value_data[self.label] == c].shape[0]\n",
    "\n",
    "                if class_count == count:\n",
    "                    tree[feature_value] = c\n",
    "                    train_data = train_data[train_data[feature_name] != feature_value]\n",
    "                    assigned_to_node = True\n",
    "            if not assigned_to_node:\n",
    "                tree[feature_value] = \"?\"\n",
    "                \n",
    "        return tree, train_data\n",
    "\n",
    "    def make_predict(self, cur_tree, instance):\n",
    "        if not isinstance(cur_tree, dict):\n",
    "            return cur_tree\n",
    "        else:\n",
    "            root_node = next(iter(cur_tree))\n",
    "            feature_value = instance[root_node]\n",
    "            if feature_value in cur_tree[root_node]:\n",
    "                return self.make_predict(cur_tree[root_node][feature_value], instance)\n",
    "            else:\n",
    "                return None\n",
    "    \n",
    "def accuracy(y_hat_test, y_test):\n",
    "    return accuracy_score(y_hat_test, y_test)"
   ]
  },
  {
   "cell_type": "code",
   "execution_count": 4,
   "id": "RKwazqgPAg2W",
   "metadata": {
    "executionInfo": {
     "elapsed": 768,
     "status": "ok",
     "timestamp": 1639881962764,
     "user": {
      "displayName": "Khánh Nguyễn",
      "photoUrl": "https://lh3.googleusercontent.com/a-/AOh14GhW5QOJudmqsBqdJ5x2Hfp3zqPDQQRP2FGMhp4kpg=s64",
      "userId": "03950222018643951363"
     },
     "user_tz": -420
    },
    "id": "RKwazqgPAg2W"
   },
   "outputs": [],
   "source": [
    "# 0.5đ \n",
    "\n",
    "# flow to run your code (do this for all your datasets)\n",
    "# YOUR CODE HERE\n",
    "# tree = DecisionTree()\n",
    "\n",
    "# dataset 1 (create one cell for each dataset with the following content)\n",
    "\n",
    "# X_train, y_train, X_test, y_test = load_data(\"data/tennis.txt\")\n",
    "# tree.fit(X_train, y_train)\n",
    "# y_hat_train = tree.predict(X_train) \n",
    "# acc_train = accuracy(y_hat_train, y_train)\n",
    "# y_hat_test = tree.predict(X_test) \n",
    "# acc_test = accuracy(y_hat_test, y_test)\n",
    "# tree.visualize()"
   ]
  },
  {
   "cell_type": "code",
   "execution_count": 5,
   "id": "c5549853-5633-415f-ad38-1499fcfeeedd",
   "metadata": {},
   "outputs": [
    {
     "name": "stdout",
     "output_type": "stream",
     "text": [
      "Decision Tree:\n",
      "|--outlook = overcast > yes\n",
      "|--outlook = sunny > \n",
      "|------humidity = high > no\n",
      "|------humidity = normal > yes\n",
      "|--outlook = rain > \n",
      "|------wind = weak > yes\n",
      "|------wind = strong > no\n",
      "\n",
      "Accuracy Train = 1.0\n"
     ]
    }
   ],
   "source": [
    "tree = DecisionTree(max_depth = 5)\n",
    "\n",
    "(X_train, y_train), (X_test, y_test), attributes = load_data(\"data/tennis.txt\", split = False) # 100/0\n",
    "tree.fit(X_train, y_train, attributes)\n",
    "\n",
    "y_hat_train = tree.predict(X_train)\n",
    "acc_train = accuracy(y_hat_train, y_train)\n",
    "\n",
    "tree.visualize()\n",
    "\n",
    "print(f\"\\n\\nAccuracy Train = {acc_train}\")"
   ]
  },
  {
   "cell_type": "code",
   "execution_count": 6,
   "id": "c3f548f5-c2d6-49ab-96f0-c2cc5cc7edac",
   "metadata": {},
   "outputs": [
    {
     "name": "stdout",
     "output_type": "stream",
     "text": [
      "Decision Tree:\n",
      "|--sex = female > \n",
      "|------pclass = 2nd > \n",
      "|----------age = child > yes\n",
      "|----------age = adult > yes\n",
      "|------pclass = 3rd > \n",
      "|----------age = child > \n",
      "|--------------pclass = 3rd > no\n",
      "|----------age = adult > \n",
      "|--------------pclass = 3rd > no\n",
      "|------pclass = crew > \n",
      "|----------pclass = crew > yes\n",
      "|------pclass = 1st > \n",
      "|----------pclass = 1st > yes\n",
      "|--sex = male > \n",
      "|------pclass = crew > \n",
      "|----------pclass = crew > no\n",
      "|------pclass = 2nd > \n",
      "|----------age = child > yes\n",
      "|----------age = adult > no\n",
      "|------pclass = 3rd > \n",
      "|----------age = child > \n",
      "|--------------pclass = 3rd > no\n",
      "|----------age = adult > \n",
      "|--------------pclass = 3rd > no\n",
      "|------pclass = 1st > \n",
      "|----------age = child > yes\n",
      "|----------age = adult > no\n",
      "\n",
      "Accuracy Train = 0.7926136363636364\n",
      "Accuracy Test = 0.782312925170068\n"
     ]
    }
   ],
   "source": [
    "tree = DecisionTree(max_depth = 10)\n",
    "\n",
    "(X_train, y_train), (X_test, y_test), attributes = load_data(\"data/titanic2.txt\", split = True) # 80/20\n",
    "tree.fit(X_train, y_train, attributes)\n",
    "\n",
    "y_hat_train = tree.predict(X_train)\n",
    "acc_train = accuracy(y_hat_train, y_train)\n",
    "y_hat_test = tree.predict(X_test)\n",
    "acc_test = accuracy(y_hat_test, y_test)\n",
    "\n",
    "tree.visualize()\n",
    "\n",
    "print(f\"\\n\\nAccuracy Train = {acc_train}\")\n",
    "print(f\"Accuracy Test = {acc_test}\")"
   ]
  },
  {
   "cell_type": "markdown",
   "id": "ggqgBjBGd9vy",
   "metadata": {
    "id": "ggqgBjBGd9vy"
   },
   "source": [
    "### Trả lời câu hỏi (0.5đ)"
   ]
  },
  {
   "cell_type": "markdown",
   "id": "mpFvRmPoLX78",
   "metadata": {
    "id": "mpFvRmPoLX78"
   },
   "source": [
    "**Câu hỏi 1**: Bạn có nhận xét gì về accuracy giữa tập train và tập test (trên tập ```titanic2``` và/hoặc trên tập dữ liệu bạn chọn)? Giải thích và nêu hướng giải quyết. (0.5đ)\n",
    "\n",
    "---\n",
    "\n",
    "Accuracy ở tập test và tập train mặc dù khá gần nhau (train accuracy lớn hơn test accuracy một tí) nhưng vẫn còn thấp.\n",
    "\n",
    "Hướng giải quyết: Thu thập nhiều dữ liệu hơn, xem xét đến trường hợp dữ liệu có ngoại lai, sử dụng thuật toán phân loại khác,..."
   ]
  },
  {
   "cell_type": "markdown",
   "id": "QOI51WD9HtW1",
   "metadata": {
    "id": "QOI51WD9HtW1"
   },
   "source": [
    "## Phần II: Phân cụm (5đ)"
   ]
  },
  {
   "cell_type": "markdown",
   "id": "FDLMYDnXeGhE",
   "metadata": {
    "id": "FDLMYDnXeGhE"
   },
   "source": [
    "### Yêu cầu"
   ]
  },
  {
   "cell_type": "markdown",
   "id": "QL-1y-F2TUz7",
   "metadata": {
    "id": "QL-1y-F2TUz7"
   },
   "source": [
    "Trong phần này, các bạn sẽ cài đặt thuật toán phân cụm k-means trên dữ liệu tổng hợp (synthetic data)."
   ]
  },
  {
   "cell_type": "code",
   "execution_count": 7,
   "id": "Cqp_wbBHOFun",
   "metadata": {
    "id": "Cqp_wbBHOFun"
   },
   "outputs": [],
   "source": [
    "import numpy as np\n",
    "import matplotlib.pyplot as plt\n",
    "from scipy.spatial.distance import cdist"
   ]
  },
  {
   "cell_type": "markdown",
   "id": "tvULptcxUP4F",
   "metadata": {
    "id": "tvULptcxUP4F"
   },
   "source": [
    "Dữ liệu được sử dụng bao gồm 1500 điểm, thuộc 3 cụm với center lần lượt là (2, 2), (7,3), (3, 6). Các điểm dữ liệu trong từng cụm được sinh ngẫu nhiên theo phân phối chuẩn 2 biến (bivariate normal distribution). "
   ]
  },
  {
   "cell_type": "code",
   "execution_count": 8,
   "id": "d6W4g6D_PoEc",
   "metadata": {
    "id": "d6W4g6D_PoEc"
   },
   "outputs": [],
   "source": [
    "# generate synthetic data \n",
    "def generate_data(means, cov, N, K):\n",
    "    np.random.seed(42)\n",
    "    X0 = np.random.multivariate_normal(means[0], cov, N)\n",
    "    X1 = np.random.multivariate_normal(means[1], cov, N)\n",
    "    X2 = np.random.multivariate_normal(means[2], cov, N)\n",
    "\n",
    "    X = np.concatenate((X0, X1, X2), axis = 0)\n",
    "    original_label = np.asarray([0]*N + [1]*N + [2]*N).T\n",
    "\n",
    "    return X, original_label\n",
    "\n",
    "# visualize data \n",
    "def kmeans_display(X, label):\n",
    "    K = np.amax(label) + 1\n",
    "    X0 = X[label == 0, :]\n",
    "    X1 = X[label == 1, :]\n",
    "    X2 = X[label == 2, :]\n",
    "    \n",
    "    plt.plot(X0[:, 0], X0[:, 1], 'b^', markersize = 4, alpha = .8)\n",
    "    plt.plot(X1[:, 0], X1[:, 1], 'go', markersize = 4, alpha = .8)\n",
    "    plt.plot(X2[:, 0], X2[:, 1], 'rs', markersize = 4, alpha = .8)\n",
    "\n",
    "    plt.axis('equal')\n",
    "    plt.plot()\n",
    "    plt.show()"
   ]
  },
  {
   "cell_type": "code",
   "execution_count": 9,
   "id": "90Og5sbUU8L8",
   "metadata": {
    "colab": {
     "base_uri": "https://localhost:8080/",
     "height": 265
    },
    "executionInfo": {
     "elapsed": 8,
     "status": "ok",
     "timestamp": 1639878986473,
     "user": {
      "displayName": "Khánh Nguyễn",
      "photoUrl": "https://lh3.googleusercontent.com/a-/AOh14GhW5QOJudmqsBqdJ5x2Hfp3zqPDQQRP2FGMhp4kpg=s64",
      "userId": "03950222018643951363"
     },
     "user_tz": -420
    },
    "id": "90Og5sbUU8L8",
    "outputId": "57902a78-d5ee-41d4-b85e-66e6fa483997"
   },
   "outputs": [
    {
     "data": {
      "image/png": "[encoded data removed]",
      "text/plain": [
       "<Figure size 432x288 with 1 Axes>"
      ]
     },
     "metadata": {
      "needs_background": "light"
     },
     "output_type": "display_data"
    }
   ],
   "source": [
    "N, K = 500, 3\n",
    "means = [[2, 2], [7, 3], [3, 6]]\n",
    "cov = [[1, 0], [0, 1]]\n",
    "\n",
    "X, original_label = generate_data(means, cov, N, K)\n",
    "kmeans_display(X, original_label)"
   ]
  },
  {
   "cell_type": "markdown",
   "id": "sZGtZzxYV6wB",
   "metadata": {
    "id": "sZGtZzxYV6wB"
   },
   "source": [
    "Các bạn cần điền vào các phần ```YOUR CODE HERE``` trong các ô dưới đây để hoàn thành thuật toán k-means clustering."
   ]
  },
  {
   "cell_type": "markdown",
   "id": "MOzgEIgWeJ-A",
   "metadata": {
    "id": "MOzgEIgWeJ-A"
   },
   "source": [
    "### Cài đặt (4đ)"
   ]
  },
  {
   "cell_type": "code",
   "execution_count": 10,
   "id": "7CXzAAx2Pt4N",
   "metadata": {
    "deletable": false,
    "executionInfo": {
     "elapsed": 729,
     "status": "ok",
     "timestamp": 1639880484812,
     "user": {
      "displayName": "Khánh Nguyễn",
      "photoUrl": "https://lh3.googleusercontent.com/a-/AOh14GhW5QOJudmqsBqdJ5x2Hfp3zqPDQQRP2FGMhp4kpg=s64",
      "userId": "03950222018643951363"
     },
     "user_tz": -420
    },
    "id": "7CXzAAx2Pt4N",
    "nbgrader": {
     "cell_type": "code",
     "checksum": "88b654673e4ab9acaae48bc99ca22ec7",
     "grade": false,
     "grade_id": "cell-02d26fb701e008ca",
     "locked": false,
     "schema_version": 3,
     "solution": true,
     "task": false
    }
   },
   "outputs": [],
   "source": [
    "# 0.5đ\n",
    "def kmeans_init_centers(X, k):\n",
    "    np.random.seed(42)\n",
    "\n",
    "    # randomly pick k rows of X as initial centers using np.random.choice function\n",
    "    \n",
    "    # YOUR CODE HERE\n",
    "    n = len(X)\n",
    "    rand_idx = np.random.choice(n - 1, k)\n",
    "    return X[rand_idx]"
   ]
  },
  {
   "cell_type": "code",
   "execution_count": 11,
   "id": "AzcdXSEHWh5L",
   "metadata": {
    "id": "AzcdXSEHWh5L"
   },
   "outputs": [],
   "source": [
    "centers = kmeans_init_centers(X, K)\n",
    "assert centers.shape == (K, 2)"
   ]
  },
  {
   "cell_type": "code",
   "execution_count": 12,
   "id": "IHoz22FUVspR",
   "metadata": {
    "deletable": false,
    "executionInfo": {
     "elapsed": 465,
     "status": "ok",
     "timestamp": 1639880500373,
     "user": {
      "displayName": "Khánh Nguyễn",
      "photoUrl": "https://lh3.googleusercontent.com/a-/AOh14GhW5QOJudmqsBqdJ5x2Hfp3zqPDQQRP2FGMhp4kpg=s64",
      "userId": "03950222018643951363"
     },
     "user_tz": -420
    },
    "id": "IHoz22FUVspR",
    "nbgrader": {
     "cell_type": "code",
     "checksum": "94e9843cd7081e48d59f6ccb52e1dfcc",
     "grade": false,
     "grade_id": "cell-f6e050b570717c21",
     "locked": false,
     "schema_version": 3,
     "solution": true,
     "task": false
    }
   },
   "outputs": [],
   "source": [
    "# 1đ \n",
    "def kmeans_assign_labels(X, centers):\n",
    "    # calculate pairwise distances btw data and centers using cdist\n",
    "    # return index of the closest center using np.argmin\n",
    "\n",
    "    # YOUR CODE HERE\n",
    "    dist = cdist(X, centers)\n",
    "    return np.argmin(dist, axis = 1)"
   ]
  },
  {
   "cell_type": "code",
   "execution_count": 13,
   "id": "a-PculxAXc-M",
   "metadata": {
    "id": "a-PculxAXc-M"
   },
   "outputs": [],
   "source": [
    "assigned_labels = kmeans_assign_labels(X, centers)\n",
    "assert assigned_labels.shape == (N*3, )"
   ]
  },
  {
   "cell_type": "code",
   "execution_count": 14,
   "id": "22t4pQ8wVtWH",
   "metadata": {
    "deletable": false,
    "executionInfo": {
     "elapsed": 1,
     "status": "ok",
     "timestamp": 1639880509882,
     "user": {
      "displayName": "Khánh Nguyễn",
      "photoUrl": "https://lh3.googleusercontent.com/a-/AOh14GhW5QOJudmqsBqdJ5x2Hfp3zqPDQQRP2FGMhp4kpg=s64",
      "userId": "03950222018643951363"
     },
     "user_tz": -420
    },
    "id": "22t4pQ8wVtWH",
    "nbgrader": {
     "cell_type": "code",
     "checksum": "822db51073ce59cf1c3c1a01e487f90d",
     "grade": false,
     "grade_id": "cell-29a67030b178fde0",
     "locked": false,
     "schema_version": 3,
     "solution": true,
     "task": false
    }
   },
   "outputs": [],
   "source": [
    "# 1đ \n",
    "def kmeans_update_centers(X, labels, K):\n",
    "    centers = np.zeros((K, X.shape[1]))\n",
    "    for k in range(K):\n",
    "        # collect all points assigned to the k-th cluster \n",
    "        # take average\n",
    "\n",
    "        # YOUR CODE HERE\n",
    "        X_k = [point for i, point in enumerate(X) if labels[i] == k]\n",
    "        xs = [point[0] for point in X_k]\n",
    "        ys = [point[1] for point in X_k]\n",
    "\n",
    "        centers[k] = [np.average(xs), np.average(ys)]\n",
    "        \n",
    "    return centers"
   ]
  },
  {
   "cell_type": "code",
   "execution_count": 15,
   "id": "1seFAj_WVyRe",
   "metadata": {
    "deletable": false,
    "executionInfo": {
     "elapsed": 499,
     "status": "ok",
     "timestamp": 1639880521270,
     "user": {
      "displayName": "Khánh Nguyễn",
      "photoUrl": "https://lh3.googleusercontent.com/a-/AOh14GhW5QOJudmqsBqdJ5x2Hfp3zqPDQQRP2FGMhp4kpg=s64",
      "userId": "03950222018643951363"
     },
     "user_tz": -420
    },
    "id": "1seFAj_WVyRe",
    "nbgrader": {
     "cell_type": "code",
     "checksum": "81a03e536965535d3ee4d88b7c9c2f90",
     "grade": false,
     "grade_id": "cell-f5acd1c334d56c44",
     "locked": false,
     "schema_version": 3,
     "solution": true,
     "task": false
    }
   },
   "outputs": [],
   "source": [
    "# 0.5đ \n",
    "def has_converged(centers, new_centers):\n",
    "    # return True if two sets of centers are the same\n",
    "\n",
    "    # YOUR CODE HERE\n",
    "    threshold = 0.1    # Point A and Point B is considered as \"converged\" if:\n",
    "                       # B - threshold <= A <= B + threshold\n",
    "\n",
    "    for i in range(len(centers)):\n",
    "        for j in range(len(centers[0])):\n",
    "            if not((centers[0][j] <= new_centers[0][j] + threshold) and (centers[0][j] >= new_centers[0][j] - threshold)):\n",
    "                return False\n",
    "\n",
    "    return True"
   ]
  },
  {
   "cell_type": "code",
   "execution_count": 16,
   "id": "NlmJn2FQPwSZ",
   "metadata": {
    "deletable": false,
    "id": "NlmJn2FQPwSZ",
    "nbgrader": {
     "cell_type": "code",
     "checksum": "2e9c1924da30efe0c821b2f1a800834d",
     "grade": false,
     "grade_id": "cell-c210d26f0bf63b15",
     "locked": false,
     "schema_version": 3,
     "solution": true,
     "task": false
    }
   },
   "outputs": [],
   "source": [
    "# 1đ \n",
    "def kmeans(X, K):\n",
    "    # save the center coordinates of each iteration\n",
    "    centers = kmeans_init_centers(X, K)            # <--- Chỗ này e đổi từ \"[kmeans_init_centers(X, K)]\" sang \"kmeans_init_centers(X, K)\"\n",
    "    # save the labels of each iteration\n",
    "    labels = []\n",
    "    it = 0 \n",
    "    while True:\n",
    "        # at each iteration:\n",
    "        # 1. assign label for each points and append to labels\n",
    "        # 2. update the centers\n",
    "        # 3. check the convergence condition\n",
    "        #    and append NEW center coordinates to centers\n",
    "        # 4. update iteration \n",
    "\n",
    "        # YOUR CODE HERE\n",
    "        labels = kmeans_assign_labels(X, centers)\n",
    "        new_centers = kmeans_update_centers(X, labels, K)\n",
    "        \n",
    "        if has_converged(centers, new_centers):\n",
    "            centers = new_centers\n",
    "            break\n",
    "        \n",
    "        centers = new_centers\n",
    "        it += 1\n",
    "    \n",
    "    return (centers, labels, it)"
   ]
  },
  {
   "cell_type": "code",
   "execution_count": 17,
   "id": "d2qfbn_QP72d",
   "metadata": {
    "id": "d2qfbn_QP72d"
   },
   "outputs": [
    {
     "name": "stdout",
     "output_type": "stream",
     "text": [
      "Centers found by k-means algorithm:\n",
      "[7.08218735 3.07474629]\n",
      "============================================================\n"
     ]
    },
    {
     "data": {
      "image/png": "[encoded data removed]",
      "text/plain": [
       "<Figure size 432x288 with 1 Axes>"
      ]
     },
     "metadata": {
      "needs_background": "light"
     },
     "output_type": "display_data"
    }
   ],
   "source": [
    "(centers, labels, it) = kmeans(X, K)\n",
    "print('Centers found by k-means algorithm:')\n",
    "print(centers[-1])\n",
    "print('='*60)\n",
    "\n",
    "kmeans_display(X, labels[-1])"
   ]
  },
  {
   "cell_type": "code",
   "execution_count": 18,
   "id": "d797616d-7120-4c21-b1af-8a5e16d7bc4a",
   "metadata": {},
   "outputs": [
    {
     "name": "stdout",
     "output_type": "stream",
     "text": [
      "Centers found by k-means algorithm:\n",
      "[[2.00482777 2.0215623 ]\n",
      " [2.9956284  6.02983985]\n",
      " [7.08218735 3.07474629]]\n",
      "============================================================\n"
     ]
    },
    {
     "data": {
      "image/png": "[encoded data removed]",
      "text/plain": [
       "<Figure size 432x288 with 1 Axes>"
      ]
     },
     "metadata": {
      "needs_background": "light"
     },
     "output_type": "display_data"
    }
   ],
   "source": [
    "# Đây là cell em tự thêm vào, vì cell ở trên không có \"# YOUR CODE HERE\", và output e thấy hơi lạ\n",
    "# Chỉ đơn giản là bỏ 2 cái \"[-1]\" ở centers và labels đi thôi ạ\n",
    "\n",
    "(centers, labels, it) = kmeans(X, K)\n",
    "print('Centers found by k-means algorithm:')\n",
    "print(centers)\n",
    "print('='*60)\n",
    "\n",
    "kmeans_display(X, labels)"
   ]
  },
  {
   "cell_type": "markdown",
   "id": "qQMU2Nj6eMNT",
   "metadata": {
    "id": "qQMU2Nj6eMNT"
   },
   "source": [
    "### Trả lời câu hỏi (1đ)"
   ]
  },
  {
   "cell_type": "markdown",
   "id": "0oYbcHN6dAAX",
   "metadata": {
    "id": "0oYbcHN6dAAX"
   },
   "source": [
    "**Câu hỏi 2**: Bạn có nhận xét gì về kết quả của thuật toán k-means clustering với dữ liệu trên? (0.25đ)\n",
    "\n",
    "---\n",
    "\n",
    "Thuật toán cho ra kết quả khá chính xác, tìm và gom nhóm được các điểm như đề bài yêu cầu."
   ]
  },
  {
   "cell_type": "markdown",
   "id": "OwSHYivrejqr",
   "metadata": {
    "id": "OwSHYivrejqr"
   },
   "source": [
    "**Câu hỏi 3**: Hãy nêu điểm yếu của thuật toán k-means clustering (thuật toán có dễ bị ảnh hưởng bởi các center khởi tạo? phù hợp và không phù hợp với loại dữ liệu nào?). Bạn hãy nêu phương pháp/thuật toán thay thế có thể giải quyết các điểm yếu của thuật toán k-means clustering. (0.75đ)\n",
    "\n",
    "---\n",
    "\n",
    "Điểm yếu của K-means clustering:\n",
    "\n",
    "* Chúng ta phải xác định K trước, tuỳ vào K mà kết quả clustering có tốt hay không.\n",
    "* Có ảnh hưởng bởi các center khởi tạo, thứ mà K-means đạt được là tối ưu local, chứ không đảm bảo tối ưu về mặt tổng thể.\n",
    "* Bị ảnh hưởng bới outliers.\n",
    "* Phù hợp với những những bộ dữ liệu mà: các cụm có kích thước gần giống nhau. Không phù hợp với dữ liệu có các cụm có sự khác biệt lớn về kích thước.\n",
    "* Không phù hợp với dữ liệu có các cụm có hình dạng \"kỳ lạ\".\n",
    "\n",
    "Tuỳ thuộc vào tính chất của bộ dữ liệu mà có thể chọn thuật toán khác thay thế cho k-means. Nếu bộ dữ liệu chứa outliers ảnh hưởng lớn đến kết quả, có thể sử dụng k-medoids."
   ]
  }
 ],
 "metadata": {
  "colab": {
   "collapsed_sections": [],
   "name": "[Lab 03 - Data Mining] Classification & Clustering.ipynb",
   "provenance": [
    {
     "file_id": "1J1x4qE_dUH8LgPg7gLEh8H23DYDzNCki",
     "timestamp": 1639879447273
    }
   ]
  },
  "kernelspec": {
   "display_name": "Python 3 (ipykernel)",
   "language": "python",
   "name": "python3"
  },
  "language_info": {
   "codemirror_mode": {
    "name": "ipython",
    "version": 3
   },
   "file_extension": ".py",
   "mimetype": "text/x-python",
   "name": "python",
   "nbconvert_exporter": "python",
   "pygments_lexer": "ipython3",
   "version": "3.8.10"
  }
 },
 "nbformat": 4,
 "nbformat_minor": 5
}
